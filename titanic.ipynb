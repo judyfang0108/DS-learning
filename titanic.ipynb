{
  "nbformat": 4,
  "nbformat_minor": 0,
  "metadata": {
    "kernelspec": {
      "display_name": "Python 3",
      "language": "python",
      "name": "python3"
    },
    "language_info": {
      "codemirror_mode": {
        "name": "ipython",
        "version": 3
      },
      "file_extension": ".py",
      "mimetype": "text/x-python",
      "name": "python",
      "nbconvert_exporter": "python",
      "pygments_lexer": "ipython3",
      "version": "3.8.5"
    },
    "colab": {
      "provenance": [],
      "collapsed_sections": []
    }
  },
  "cells": [
    {
      "cell_type": "markdown",
      "metadata": {
        "id": "Zuc2TQ-2Bqmy"
      },
      "source": [
        "# 作業 2\n",
        "\n",
        "本作業使用 [Kaggle Titanic](https://www.kaggle.com/c/titanic/overview) 所提供的資料，根據鐵達尼號乘客資料預測生還者。\n",
        "我們只使用 `train.csv` 進行生還者預測（只有 `train.csv` 才有答案），而加分題需要額外使用 `test.csv` 並提交至 [Kaggle Titanic](https://www.kaggle.com/c/titanic/overview) 進行評分。\n",
        "\n",
        "本作業需要先學習[程式教材](https://github.com/IKMLab/course_material)中的以下部份：\n",
        "\n",
        "- [jupyter-基本功能](https://github.com/IKMLab/course_material/blob/master/jupyter-%E5%9F%BA%E6%9C%AC%E5%8A%9F%E8%83%BD.ipynb)\n",
        "- [python-入門語法](https://github.com/IKMLab/course_material/blob/master/python-%E5%85%A5%E9%96%80%E8%AA%9E%E6%B3%95.ipynb)\n",
        "- [numpy-基本功能](https://github.com/IKMLab/course_material/blob/master/numpy-%E5%9F%BA%E6%9C%AC%E5%8A%9F%E8%83%BD.ipynb)\n",
        "- [pandas-基本功能](https://github.com/IKMLab/course_material/blob/master/pandas-%E5%9F%BA%E6%9C%AC%E5%8A%9F%E8%83%BD.ipynb)\n",
        "- [matplotlib-資料視覺化](https://github.com/IKMLab/course_material/blob/master/matplotlib-%E8%B3%87%E6%96%99%E8%A6%96%E8%A6%BA%E5%8C%96.ipynb)\n",
        "- [scikit-learn-基本功能](https://github.com/IKMLab/course_material/blob/master/scikit-learn-%E5%9F%BA%E6%9C%AC%E5%8A%9F%E8%83%BD.ipynb)"
      ]
    },
    {
      "cell_type": "markdown",
      "metadata": {
        "id": "2pI6dU9fBqm1"
      },
      "source": [
        "## 繳交規則\n",
        "\n",
        "1. 請將**當前資料夾**命名為 `FDA_HW2_你的學號`\n",
        "    - 例如：`FDA_HW2_F12345678`\n",
        "    - 所有**英文**都必須**大寫**\n",
        "    - 所有**文字**都必須在 **ASCII** 範圍\n",
        "2. 請將本檔案命名為 `main.ipynb`\n",
        "3. 請描述開發所需要的**環境**，包含：\n",
        "    - **作業系統**與**發行版本**\n",
        "        - 例如：Windows、Mac、Linux 等\n",
        "        - 需要填寫系統**名稱**與**版本**\n",
        "    - **程式執行環境**\n",
        "        - 例如：jupyter、kaggle kernel、colab 等\n",
        "        - 如果是 jupyter 請**填寫**版本\n",
        "        - 如果是雲端計算資源**不需填寫**版本\n",
        "        - 請**勿**使用**付費**資源，助教薪水**微薄**\n",
        "    - **python 版本**\n",
        "        - 例如：3.6.9\n",
        "        - 填寫**至少**能執行的版本即可\n",
        "    - **安裝環境**\n",
        "        - 例如使用 `pip`、`conda` 等\n",
        "        - 助教會以虛擬環境測試\n",
        "    - **安裝套件**與**版本**\n",
        "        - 請使用 `requirements.txt`\n",
        "        - 助教會以虛擬環境測試\n",
        "        - 請**不要**附上**多餘**的套件\n",
        "    - **計算資源**\n",
        "        - 使用 CPU **數量**\n",
        "        - GPU 版本\n",
        "    - **執行**所需花費**時間**\n",
        "        - 請**不要更改**擁有註解 `請勿更動此區塊程式碼` 的程式碼區塊\n",
        "4. 請**保留執行結果**讓助教可以直接觀看\n",
        "    - 請記得使用 **Save**\n",
        "    - **雲端**計算資源請**儲存**後**下載**檔案\n",
        "    - 所有程式區塊**必須依序執行**\n",
        "    - 請**不要**保留**多餘**的程式區塊\n",
        "5. 請**控制隨機亂數**讓實驗結果可以**重現**\n",
        "    - 關鍵字：**random seed**\n",
        "6. 請**不要**上傳**多餘**的檔案\n",
        "    - 不要上傳**資料**檔案，包含 `train.csv` 與 `test.csv` 等\n",
        "    - 不要上傳**隱藏**檔案，包含 `.git`、`.ipynb_checkpoints` 等\n",
        "    - 不要上傳**虛擬環境**\n",
        "7. 請附上**參考連結**\n",
        "    - 可以參考公開的 kernel\n",
        "    - 沒附上連結者視同**瓢竊**\n",
        "    - 使用的**演算法**請附上來源，並大致描述概念\n",
        "8. 請**壓縮**成 `zip` 並上傳至 [moodle](http://moodle.ncku.edu.tw/)\n",
        "    - 例如 `FDA_HW2_F12345678.zip`"
      ]
    },
    {
      "cell_type": "markdown",
      "metadata": {
        "id": "IhXXsyZCBqm3"
      },
      "source": [
        "## 評分標準\n",
        "\n",
        "如果有參考其他作法卻沒有附上來源，則直接視為瓢竊，得分為 $-\\infty$。\n",
        "\n",
        "|規則|滿足規則得分|沒滿足規則失分|\n",
        "|-|-|-|\n",
        "|資料夾名稱符合繳交規則|0|-60|\n",
        "|檔案名稱符合繳交規則|0|-60|\n",
        "|填寫環境需求|0|-60|\n",
        "|填寫計算資源|0|-60|\n",
        "|提供 `requirements.txt`|0|-60|\n",
        "|將資料夾壓縮成 `zip`|0|-60|\n",
        "|不更改擁有註解 `請勿更動此區塊程式碼` 的程式碼區塊|0|-60|\n",
        "|計算並顯示執行時間|0|-60|\n",
        "|控制隨機亂數讓實驗結果可以重現|0|-60|\n",
        "|使用 `markdown` 區塊描述資料分析內容|+3|-10|\n",
        "|以資料視覺化輔助資料分析並以 `markdown` 區塊輔助描述圖中資訊|+7|-10|\n",
        "|選擇使用 `Sex` 與 `Age` 以外的特徵作為輸入並以 `markdown` 區塊描述方法與理由|+5|-10|\n",
        "|處理缺失值並以 `markdown` 區塊描述方法與理由|+5|-10|\n",
        "|轉換數值資料並以 `markdown` 區塊描述方法與理由|+5|-10|\n",
        "|轉換類別資料並以 `markdown` 區塊描述方法與理由|+5|-10|\n",
        "|使用其他方法進行資料前處理並以 `markdown` 區塊描述理由|+10|0|\n",
        "|使用決策樹以外的模型進行實驗|+10|-10|\n",
        "|使用 `markdown` 區塊簡單解釋模型演算法|+10|0|\n",
        "|解釋模型超參數的選擇理由|+5|-10|\n",
        "|使用 5-fold cross validation 輸出平均準確度|+5|-10|\n",
        "|使用所有資料訓練模型並輸出準確度|+5|-10|\n",
        "|使用多個不同模型進行實驗|+10|0|\n",
        "|使用 ensemble 進行實驗|+10|0|\n",
        "|試著讓其中一個實驗模型 overfitting（訓練與驗證準確度差距 > $10\\%$）|+9|0|\n",
        "|試著讓其中一個實驗模型 underfitting（訓練準確度約 $50\\% \\pm 10\\%$）|+1|0|\n",
        "|準確度超越課堂範例（$81\\%$）|+10|-10|\n",
        "|將最佳實驗結果套用到 `test.csv` 並截圖 Kaggle 評分|+10|0|\n",
        "|將最佳實驗結果套用到 `test.csv` 並取得 Kaggle Public Leaderboard Top $10\\%$|+20|0|\n",
        "|將最佳實驗結果套用到 `test.csv` 並取得 Kaggle Public Leaderboard Top $5\\%$|+30|0|\n",
        "|將最佳實驗結果套用到 `test.csv` 並取得 Kaggle Public Leaderboard Top $1\\%$|+50|0|"
      ]
    },
    {
      "cell_type": "markdown",
      "metadata": {
        "id": "PvWMgI4IBqm3"
      },
      "source": [
        "## 環境\n",
        "\n",
        "請填寫當前執行使用的環境。\n",
        "\n",
        "|環境|名稱|版本|\n",
        "|-|-|-|\n",
        "|作業系統|macOS BigSur|11.2.3|\n",
        "|程式執行環境|Google Colab||\n",
        "|python 版本|python3|3.7.10|\n",
        "|安裝環境|pip|19.3.1|"
      ]
    },
    {
      "cell_type": "code",
      "metadata": {
        "colab": {
          "base_uri": "https://localhost:8080/"
        },
        "id": "zDrJwp_H2seK",
        "outputId": "fe5dab9d-04be-4ae6-ae91-690bc37bad40"
      },
      "source": [
        "!python --version\n",
        "!pip --version"
      ],
      "execution_count": null,
      "outputs": [
        {
          "output_type": "stream",
          "text": [
            "Python 3.7.10\n",
            "pip 19.3.1 from /usr/local/lib/python3.7/dist-packages/pip (python 3.7)\n"
          ],
          "name": "stdout"
        }
      ]
    },
    {
      "cell_type": "markdown",
      "metadata": {
        "id": "cTNHE9dbBqm4"
      },
      "source": [
        "## 安裝\n",
        "\n",
        "請填寫安裝套件需要的指令\n",
        "\n",
        "```sh\n",
        "pip install -r requirements.txt\n",
        "```"
      ]
    },
    {
      "cell_type": "code",
      "metadata": {
        "colab": {
          "base_uri": "https://localhost:8080/"
        },
        "id": "UgbFrHCp2Bh7",
        "outputId": "cd9461e6-c0de-4b19-d128-c721c10bf4fd"
      },
      "source": [
        "!pip install -r requirements.txt"
      ],
      "execution_count": null,
      "outputs": [
        {
          "output_type": "stream",
          "text": [
            "Requirement already satisfied: matplotlib==3.2.2 in /usr/local/lib/python3.7/dist-packages (from -r requirements.txt (line 1)) (3.2.2)\n",
            "Requirement already satisfied: numpy==1.19.5 in /usr/local/lib/python3.7/dist-packages (from -r requirements.txt (line 2)) (1.19.5)\n",
            "Requirement already satisfied: pandas==1.1.5 in /usr/local/lib/python3.7/dist-packages (from -r requirements.txt (line 3)) (1.1.5)\n",
            "Requirement already satisfied: scikit-learn==0.22.2.post1 in /usr/local/lib/python3.7/dist-packages (from -r requirements.txt (line 4)) (0.22.2.post1)\n",
            "Requirement already satisfied: seaborn==0.11.1 in /usr/local/lib/python3.7/dist-packages (from -r requirements.txt (line 5)) (0.11.1)\n",
            "Requirement already satisfied: sklearn==0.0 in /usr/local/lib/python3.7/dist-packages (from -r requirements.txt (line 6)) (0.0)\n",
            "Requirement already satisfied: kiwisolver>=1.0.1 in /usr/local/lib/python3.7/dist-packages (from matplotlib==3.2.2->-r requirements.txt (line 1)) (1.3.1)\n",
            "Requirement already satisfied: cycler>=0.10 in /usr/local/lib/python3.7/dist-packages (from matplotlib==3.2.2->-r requirements.txt (line 1)) (0.10.0)\n",
            "Requirement already satisfied: pyparsing!=2.0.4,!=2.1.2,!=2.1.6,>=2.0.1 in /usr/local/lib/python3.7/dist-packages (from matplotlib==3.2.2->-r requirements.txt (line 1)) (2.4.7)\n",
            "Requirement already satisfied: python-dateutil>=2.1 in /usr/local/lib/python3.7/dist-packages (from matplotlib==3.2.2->-r requirements.txt (line 1)) (2.8.1)\n",
            "Requirement already satisfied: pytz>=2017.2 in /usr/local/lib/python3.7/dist-packages (from pandas==1.1.5->-r requirements.txt (line 3)) (2018.9)\n",
            "Requirement already satisfied: scipy>=0.17.0 in /usr/local/lib/python3.7/dist-packages (from scikit-learn==0.22.2.post1->-r requirements.txt (line 4)) (1.4.1)\n",
            "Requirement already satisfied: joblib>=0.11 in /usr/local/lib/python3.7/dist-packages (from scikit-learn==0.22.2.post1->-r requirements.txt (line 4)) (1.0.1)\n",
            "Requirement already satisfied: six in /usr/local/lib/python3.7/dist-packages (from cycler>=0.10->matplotlib==3.2.2->-r requirements.txt (line 1)) (1.15.0)\n"
          ],
          "name": "stdout"
        }
      ]
    },
    {
      "cell_type": "markdown",
      "metadata": {
        "id": "5pz_JkSvBqm4"
      },
      "source": [
        "## 計算資源\n",
        "\n",
        "請填寫執行程式所需要的計算資源，請確保所有資源限制在單一個人桌上型電腦且能夠以總市價低於 5 萬的手段取得。\n",
        "\n",
        "|計算資源|答案|\n",
        "|-|-|\n",
        "|使用 CPU 核心數|1|\n",
        "|記憶體需求|$\\leq 1$GB|\n",
        "|有無使用 GPU|無|\n",
        "|GPU 版本|無|\n",
        "|GPU 記憶體需求|$\\leq 1$GB|"
      ]
    },
    {
      "cell_type": "code",
      "metadata": {
        "colab": {
          "base_uri": "https://localhost:8080/"
        },
        "id": "RIwHJEYL3d4X",
        "outputId": "36b162cd-f225-45b6-8d28-8f5eadca4de7"
      },
      "source": [
        "!cat /proc/cpuinfo | grep \"cpu cores\" | uniq\n",
        "!cat /proc/cpuinfo |grep \"processor\"|wc -l"
      ],
      "execution_count": null,
      "outputs": [
        {
          "output_type": "stream",
          "text": [
            "cpu cores\t: 1\n",
            "2\n"
          ],
          "name": "stdout"
        }
      ]
    },
    {
      "cell_type": "markdown",
      "metadata": {
        "id": "q6-sFwM3Bqm5"
      },
      "source": [
        "## 參考連結\n",
        "\n",
        "- 有無參考他人之實驗結果：有\n",
        "- 參考連結：\n",
        "  - https://www.kaggle.com/startupsci/titanic-data-science-solutions\n",
        "  - https://www.kaggle.com/sinanenocak/my-titanic-competition-attempt#4.-Outlier-Detection"
      ]
    },
    {
      "cell_type": "code",
      "metadata": {
        "id": "YhwHxIO9Bqm6"
      },
      "source": [
        "# 請勿更動此區塊程式碼\n",
        "\n",
        "import time\n",
        "import numpy as np\n",
        "import pandas as pd\n",
        "\n",
        "EXECUTION_START_TIME = time.time() # 計算執行時間\n",
        "\n",
        "df = pd.read_csv('train.csv')      # 讀取資料，請勿更改路徑"
      ],
      "execution_count": null,
      "outputs": []
    },
    {
      "cell_type": "markdown",
      "metadata": {
        "id": "FYDKNk61Bqm6"
      },
      "source": [
        "## 資料分析與前處理\n",
        "\n",
        "請在此區塊後使用**一個或多個區塊**進行資料分析與前處理，項目可以包含：\n",
        "\n",
        "- 資料視覺化\n",
        "- 相關係數\n",
        "- 決定輸入特徵\n",
        "- 處理缺失值\n",
        "- 轉換數值\n",
        "- 轉換類別\n",
        "- 其他\n",
        "\n",
        "請以 `markdown` 簡單描述**流程**、**方法**與**原因**：\n",
        "\n",
        "1. 觀察...，發現...\n",
        "2. 填補...，策略...\n",
        "3. 轉換...，原因..."
      ]
    },
    {
      "cell_type": "markdown",
      "metadata": {
        "id": "cXsi1cu52KAO"
      },
      "source": [
        "**1. 讀取資料**"
      ]
    },
    {
      "cell_type": "code",
      "metadata": {
        "colab": {
          "base_uri": "https://localhost:8080/",
          "height": 255
        },
        "id": "I2-TB_qYxsqp",
        "outputId": "73d7abd2-acd0-4936-926b-915ae6958dd1"
      },
      "source": [
        "# 讀取資料\n",
        "train = pd.read_csv('train.csv')\n",
        "test = pd.read_csv('test.csv')\n",
        "combine = [train,test]\n",
        "train.head()#印出前五筆資料"
      ],
      "execution_count": null,
      "outputs": [
        {
          "output_type": "execute_result",
          "data": {
            "text/html": [
              "<div>\n",
              "<style scoped>\n",
              "    .dataframe tbody tr th:only-of-type {\n",
              "        vertical-align: middle;\n",
              "    }\n",
              "\n",
              "    .dataframe tbody tr th {\n",
              "        vertical-align: top;\n",
              "    }\n",
              "\n",
              "    .dataframe thead th {\n",
              "        text-align: right;\n",
              "    }\n",
              "</style>\n",
              "<table border=\"1\" class=\"dataframe\">\n",
              "  <thead>\n",
              "    <tr style=\"text-align: right;\">\n",
              "      <th></th>\n",
              "      <th>PassengerId</th>\n",
              "      <th>Survived</th>\n",
              "      <th>Pclass</th>\n",
              "      <th>Name</th>\n",
              "      <th>Sex</th>\n",
              "      <th>Age</th>\n",
              "      <th>SibSp</th>\n",
              "      <th>Parch</th>\n",
              "      <th>Ticket</th>\n",
              "      <th>Fare</th>\n",
              "      <th>Cabin</th>\n",
              "      <th>Embarked</th>\n",
              "    </tr>\n",
              "  </thead>\n",
              "  <tbody>\n",
              "    <tr>\n",
              "      <th>0</th>\n",
              "      <td>1</td>\n",
              "      <td>0</td>\n",
              "      <td>3</td>\n",
              "      <td>Braund, Mr. Owen Harris</td>\n",
              "      <td>male</td>\n",
              "      <td>22.0</td>\n",
              "      <td>1</td>\n",
              "      <td>0</td>\n",
              "      <td>A/5 21171</td>\n",
              "      <td>7.2500</td>\n",
              "      <td>NaN</td>\n",
              "      <td>S</td>\n",
              "    </tr>\n",
              "    <tr>\n",
              "      <th>1</th>\n",
              "      <td>2</td>\n",
              "      <td>1</td>\n",
              "      <td>1</td>\n",
              "      <td>Cumings, Mrs. John Bradley (Florence Briggs Th...</td>\n",
              "      <td>female</td>\n",
              "      <td>38.0</td>\n",
              "      <td>1</td>\n",
              "      <td>0</td>\n",
              "      <td>PC 17599</td>\n",
              "      <td>71.2833</td>\n",
              "      <td>C85</td>\n",
              "      <td>C</td>\n",
              "    </tr>\n",
              "    <tr>\n",
              "      <th>2</th>\n",
              "      <td>3</td>\n",
              "      <td>1</td>\n",
              "      <td>3</td>\n",
              "      <td>Heikkinen, Miss. Laina</td>\n",
              "      <td>female</td>\n",
              "      <td>26.0</td>\n",
              "      <td>0</td>\n",
              "      <td>0</td>\n",
              "      <td>STON/O2. 3101282</td>\n",
              "      <td>7.9250</td>\n",
              "      <td>NaN</td>\n",
              "      <td>S</td>\n",
              "    </tr>\n",
              "    <tr>\n",
              "      <th>3</th>\n",
              "      <td>4</td>\n",
              "      <td>1</td>\n",
              "      <td>1</td>\n",
              "      <td>Futrelle, Mrs. Jacques Heath (Lily May Peel)</td>\n",
              "      <td>female</td>\n",
              "      <td>35.0</td>\n",
              "      <td>1</td>\n",
              "      <td>0</td>\n",
              "      <td>113803</td>\n",
              "      <td>53.1000</td>\n",
              "      <td>C123</td>\n",
              "      <td>S</td>\n",
              "    </tr>\n",
              "    <tr>\n",
              "      <th>4</th>\n",
              "      <td>5</td>\n",
              "      <td>0</td>\n",
              "      <td>3</td>\n",
              "      <td>Allen, Mr. William Henry</td>\n",
              "      <td>male</td>\n",
              "      <td>35.0</td>\n",
              "      <td>0</td>\n",
              "      <td>0</td>\n",
              "      <td>373450</td>\n",
              "      <td>8.0500</td>\n",
              "      <td>NaN</td>\n",
              "      <td>S</td>\n",
              "    </tr>\n",
              "  </tbody>\n",
              "</table>\n",
              "</div>"
            ],
            "text/plain": [
              "   PassengerId  Survived  Pclass  ...     Fare Cabin  Embarked\n",
              "0            1         0       3  ...   7.2500   NaN         S\n",
              "1            2         1       1  ...  71.2833   C85         C\n",
              "2            3         1       3  ...   7.9250   NaN         S\n",
              "3            4         1       1  ...  53.1000  C123         S\n",
              "4            5         0       3  ...   8.0500   NaN         S\n",
              "\n",
              "[5 rows x 12 columns]"
            ]
          },
          "metadata": {
            "tags": []
          },
          "execution_count": 85
        }
      ]
    },
    {
      "cell_type": "markdown",
      "metadata": {
        "id": "-vo6VG522fEt"
      },
      "source": [
        "**資料集個數統計**"
      ]
    },
    {
      "cell_type": "code",
      "metadata": {
        "colab": {
          "base_uri": "https://localhost:8080/"
        },
        "id": "_2oDyGvONq2h",
        "outputId": "733647de-7e78-4efe-fc18-669537a25f9f"
      },
      "source": [
        "print(\"The number of train set is: \", train.shape[0])\n",
        "print(\"The number of test set is: \", test.shape[0])"
      ],
      "execution_count": null,
      "outputs": [
        {
          "output_type": "stream",
          "text": [
            "The number of train set is:  891\n",
            "The number of test set is:  418\n"
          ],
          "name": "stdout"
        }
      ]
    },
    {
      "cell_type": "markdown",
      "metadata": {
        "id": "JZJuxUr92lW9"
      },
      "source": [
        "\n",
        "\n",
        "*   得知train中共有891筆資料\n",
        "*   得知test中共有418筆資料\n",
        "\n",
        "\n"
      ]
    },
    {
      "cell_type": "markdown",
      "metadata": {
        "id": "jRYvwBRP3ws_"
      },
      "source": [
        "**2. 資料統計分析**"
      ]
    },
    {
      "cell_type": "markdown",
      "metadata": {
        "id": "BR7AcvZK4HAH"
      },
      "source": [
        "**2.1 取得資料集的特徵向量**"
      ]
    },
    {
      "cell_type": "code",
      "metadata": {
        "colab": {
          "base_uri": "https://localhost:8080/"
        },
        "id": "H7hJpX5I3vJ5",
        "outputId": "101a8c6e-26de-431f-f097-1eb66fc3b504"
      },
      "source": [
        "train.info()\n",
        "test.info()"
      ],
      "execution_count": null,
      "outputs": [
        {
          "output_type": "stream",
          "text": [
            "<class 'pandas.core.frame.DataFrame'>\n",
            "RangeIndex: 891 entries, 0 to 890\n",
            "Data columns (total 12 columns):\n",
            " #   Column       Non-Null Count  Dtype  \n",
            "---  ------       --------------  -----  \n",
            " 0   PassengerId  891 non-null    int64  \n",
            " 1   Survived     891 non-null    int64  \n",
            " 2   Pclass       891 non-null    int64  \n",
            " 3   Name         891 non-null    object \n",
            " 4   Sex          891 non-null    object \n",
            " 5   Age          714 non-null    float64\n",
            " 6   SibSp        891 non-null    int64  \n",
            " 7   Parch        891 non-null    int64  \n",
            " 8   Ticket       891 non-null    object \n",
            " 9   Fare         891 non-null    float64\n",
            " 10  Cabin        204 non-null    object \n",
            " 11  Embarked     889 non-null    object \n",
            "dtypes: float64(2), int64(5), object(5)\n",
            "memory usage: 83.7+ KB\n",
            "<class 'pandas.core.frame.DataFrame'>\n",
            "RangeIndex: 418 entries, 0 to 417\n",
            "Data columns (total 11 columns):\n",
            " #   Column       Non-Null Count  Dtype  \n",
            "---  ------       --------------  -----  \n",
            " 0   PassengerId  418 non-null    int64  \n",
            " 1   Pclass       418 non-null    int64  \n",
            " 2   Name         418 non-null    object \n",
            " 3   Sex          418 non-null    object \n",
            " 4   Age          332 non-null    float64\n",
            " 5   SibSp        418 non-null    int64  \n",
            " 6   Parch        418 non-null    int64  \n",
            " 7   Ticket       418 non-null    object \n",
            " 8   Fare         417 non-null    float64\n",
            " 9   Cabin        91 non-null     object \n",
            " 10  Embarked     418 non-null    object \n",
            "dtypes: float64(2), int64(4), object(5)\n",
            "memory usage: 36.0+ KB\n"
          ],
          "name": "stdout"
        }
      ]
    },
    {
      "cell_type": "markdown",
      "metadata": {
        "id": "FXkx7zhYyI6m"
      },
      "source": [
        "**Dataset中包含的特徵向量共有11個**\n",
        "*   PassengerId：乘客序號\n",
        "*   pclass: 船艙等級\n",
        "*   Name：姓名\n",
        "*   Sex：性別\n",
        "*   Age：年齡\n",
        "*   SibSp：船上兄弟姐妹和配偶的數量\n",
        "*   Parch：船上父母和孩子的數量\n",
        "*   SibSp：船上兄弟姐妹和配偶的數量\n",
        "*   Parch：船上父母和孩子的數量\n",
        "*   Ticket： 船票編號\n",
        "*   Fare：旅客票價\n",
        "*   Cabin：機艙編號\n",
        "*   Embarked： C=瑟堡，Q =皇后鎮，S =南安普敦\n",
        "\n",
        "\n",
        "\n",
        "\n",
        "\n",
        "\n",
        "\n",
        "\n",
        "\n",
        "\n",
        "\n",
        "\n",
        "\n",
        "\n",
        "\n",
        "\n",
        "\n",
        "\n"
      ]
    },
    {
      "cell_type": "markdown",
      "metadata": {
        "id": "4Cl1b2Xbzg-u"
      },
      "source": [
        "**Dataset中的輸出變量**\n",
        "\n",
        "\n",
        "*   Survived：乘客生存為1，乘客死亡為0\n",
        "\n",
        "\n",
        "\n"
      ]
    },
    {
      "cell_type": "markdown",
      "metadata": {
        "id": "8GhmR2fb0Dn7"
      },
      "source": [
        "**依照原始數據，我們又可以將11個特徵向量分成以下4類**\n",
        "\n",
        "\n",
        "*   Classification(分類向量）: Sex, pclass, Embarked \n",
        "*   Continuous（連續向量）: Age, Fare\n",
        "*   Discrete（離散向量）: SibSp, Parch\n",
        "*   Others（其他向量）: Name, PassengerId, Cabian, Ticket\n",
        "\n",
        "\n"
      ]
    },
    {
      "cell_type": "markdown",
      "metadata": {
        "id": "czPZUlDd4xgT"
      },
      "source": [
        "2.2 **找出缺失值**"
      ]
    },
    {
      "cell_type": "code",
      "metadata": {
        "colab": {
          "base_uri": "https://localhost:8080/"
        },
        "id": "xbRhYHWd5BKj",
        "outputId": "53f67102-733e-445e-b6a7-0068549b59e7"
      },
      "source": [
        "print('Train columns with null values:\\n', train.isnull().sum())\n",
        "print(\"\\n\")\n",
        "print('Test columns with null values:\\n', test.isnull().sum())"
      ],
      "execution_count": null,
      "outputs": [
        {
          "output_type": "stream",
          "text": [
            "Train columns with null values:\n",
            " PassengerId      0\n",
            "Survived         0\n",
            "Pclass           0\n",
            "Name             0\n",
            "Sex              0\n",
            "Age            177\n",
            "SibSp            0\n",
            "Parch            0\n",
            "Ticket           0\n",
            "Fare             0\n",
            "Cabin          687\n",
            "Embarked         2\n",
            "dtype: int64\n",
            "\n",
            "\n",
            "Test columns with null values:\n",
            " PassengerId      0\n",
            "Pclass           0\n",
            "Name             0\n",
            "Sex              0\n",
            "Age             86\n",
            "SibSp            0\n",
            "Parch            0\n",
            "Ticket           0\n",
            "Fare             1\n",
            "Cabin          327\n",
            "Embarked         0\n",
            "dtype: int64\n"
          ],
          "name": "stdout"
        }
      ]
    },
    {
      "cell_type": "markdown",
      "metadata": {
        "id": "j9Z30Vb65OGG"
      },
      "source": [
        "**train中的缺失值** \n",
        "\n",
        "\n",
        "*   Age\n",
        "    - train共891個中缺少177個\n",
        "*   Cabin\n",
        "    - train共891個中缺少689個\n",
        "*   Embarked \n",
        "    - train共891個中缺少2個\n",
        "\n",
        "**test中的缺失值**\n",
        "\n",
        "\n",
        "*   Age\n",
        "    - test共418個中缺少86個\n",
        "*   Fare\n",
        "    - test共418個中缺少1個\n",
        "*   Cabin\n",
        "    - test共418個中缺少327個\n",
        "\n",
        "    \n",
        "\n",
        "\n",
        "\n",
        "\n",
        "\n"
      ]
    },
    {
      "cell_type": "markdown",
      "metadata": {
        "id": "hQNaITOO7ZCo"
      },
      "source": [
        "**缺失值分析(train)**\n",
        "\n",
        "\n",
        "*   Age的缺失值較少，但Age可能和生存與否的關係較大，可考慮由相關度較高的Pclass, Sex等特徵向量推測\n",
        "*   Cabin的缺失值較多，但Cabin可能和生存與否的關係較小\n",
        "*   Embarked的缺失值有兩個，但Cabin可能和生存與否的關係較小\n",
        "Cabin中样本的缺少较多，但Cabin可能和生存與否的關係較小，可考慮由Ticket, Cabin等特徵向量推測\n",
        "\n"
      ]
    },
    {
      "cell_type": "markdown",
      "metadata": {
        "id": "pfSD4UUS8WrA"
      },
      "source": [
        "**2.3 資料描述性統計**"
      ]
    },
    {
      "cell_type": "markdown",
      "metadata": {
        "id": "A0Gs2m0M-sa2"
      },
      "source": [
        " **2.3.1數值型特徵向量分析**"
      ]
    },
    {
      "cell_type": "code",
      "metadata": {
        "colab": {
          "base_uri": "https://localhost:8080/",
          "height": 297
        },
        "id": "Rw7AJ5v19IvK",
        "outputId": "28c74184-0b59-4e74-f512-4c368203ede3"
      },
      "source": [
        "train.describe()"
      ],
      "execution_count": null,
      "outputs": [
        {
          "output_type": "execute_result",
          "data": {
            "text/html": [
              "<div>\n",
              "<style scoped>\n",
              "    .dataframe tbody tr th:only-of-type {\n",
              "        vertical-align: middle;\n",
              "    }\n",
              "\n",
              "    .dataframe tbody tr th {\n",
              "        vertical-align: top;\n",
              "    }\n",
              "\n",
              "    .dataframe thead th {\n",
              "        text-align: right;\n",
              "    }\n",
              "</style>\n",
              "<table border=\"1\" class=\"dataframe\">\n",
              "  <thead>\n",
              "    <tr style=\"text-align: right;\">\n",
              "      <th></th>\n",
              "      <th>PassengerId</th>\n",
              "      <th>Survived</th>\n",
              "      <th>Pclass</th>\n",
              "      <th>Age</th>\n",
              "      <th>SibSp</th>\n",
              "      <th>Parch</th>\n",
              "      <th>Fare</th>\n",
              "    </tr>\n",
              "  </thead>\n",
              "  <tbody>\n",
              "    <tr>\n",
              "      <th>count</th>\n",
              "      <td>891.000000</td>\n",
              "      <td>891.000000</td>\n",
              "      <td>891.000000</td>\n",
              "      <td>714.000000</td>\n",
              "      <td>891.000000</td>\n",
              "      <td>891.000000</td>\n",
              "      <td>891.000000</td>\n",
              "    </tr>\n",
              "    <tr>\n",
              "      <th>mean</th>\n",
              "      <td>446.000000</td>\n",
              "      <td>0.383838</td>\n",
              "      <td>2.308642</td>\n",
              "      <td>29.699118</td>\n",
              "      <td>0.523008</td>\n",
              "      <td>0.381594</td>\n",
              "      <td>32.204208</td>\n",
              "    </tr>\n",
              "    <tr>\n",
              "      <th>std</th>\n",
              "      <td>257.353842</td>\n",
              "      <td>0.486592</td>\n",
              "      <td>0.836071</td>\n",
              "      <td>14.526497</td>\n",
              "      <td>1.102743</td>\n",
              "      <td>0.806057</td>\n",
              "      <td>49.693429</td>\n",
              "    </tr>\n",
              "    <tr>\n",
              "      <th>min</th>\n",
              "      <td>1.000000</td>\n",
              "      <td>0.000000</td>\n",
              "      <td>1.000000</td>\n",
              "      <td>0.420000</td>\n",
              "      <td>0.000000</td>\n",
              "      <td>0.000000</td>\n",
              "      <td>0.000000</td>\n",
              "    </tr>\n",
              "    <tr>\n",
              "      <th>25%</th>\n",
              "      <td>223.500000</td>\n",
              "      <td>0.000000</td>\n",
              "      <td>2.000000</td>\n",
              "      <td>20.125000</td>\n",
              "      <td>0.000000</td>\n",
              "      <td>0.000000</td>\n",
              "      <td>7.910400</td>\n",
              "    </tr>\n",
              "    <tr>\n",
              "      <th>50%</th>\n",
              "      <td>446.000000</td>\n",
              "      <td>0.000000</td>\n",
              "      <td>3.000000</td>\n",
              "      <td>28.000000</td>\n",
              "      <td>0.000000</td>\n",
              "      <td>0.000000</td>\n",
              "      <td>14.454200</td>\n",
              "    </tr>\n",
              "    <tr>\n",
              "      <th>75%</th>\n",
              "      <td>668.500000</td>\n",
              "      <td>1.000000</td>\n",
              "      <td>3.000000</td>\n",
              "      <td>38.000000</td>\n",
              "      <td>1.000000</td>\n",
              "      <td>0.000000</td>\n",
              "      <td>31.000000</td>\n",
              "    </tr>\n",
              "    <tr>\n",
              "      <th>max</th>\n",
              "      <td>891.000000</td>\n",
              "      <td>1.000000</td>\n",
              "      <td>3.000000</td>\n",
              "      <td>80.000000</td>\n",
              "      <td>8.000000</td>\n",
              "      <td>6.000000</td>\n",
              "      <td>512.329200</td>\n",
              "    </tr>\n",
              "  </tbody>\n",
              "</table>\n",
              "</div>"
            ],
            "text/plain": [
              "       PassengerId    Survived      Pclass  ...       SibSp       Parch        Fare\n",
              "count   891.000000  891.000000  891.000000  ...  891.000000  891.000000  891.000000\n",
              "mean    446.000000    0.383838    2.308642  ...    0.523008    0.381594   32.204208\n",
              "std     257.353842    0.486592    0.836071  ...    1.102743    0.806057   49.693429\n",
              "min       1.000000    0.000000    1.000000  ...    0.000000    0.000000    0.000000\n",
              "25%     223.500000    0.000000    2.000000  ...    0.000000    0.000000    7.910400\n",
              "50%     446.000000    0.000000    3.000000  ...    0.000000    0.000000   14.454200\n",
              "75%     668.500000    1.000000    3.000000  ...    1.000000    0.000000   31.000000\n",
              "max     891.000000    1.000000    3.000000  ...    8.000000    6.000000  512.329200\n",
              "\n",
              "[8 rows x 7 columns]"
            ]
          },
          "metadata": {
            "tags": []
          },
          "execution_count": 89
        }
      ]
    },
    {
      "cell_type": "markdown",
      "metadata": {
        "id": "cotheYn1-Ss6"
      },
      "source": [
        "**2.3.2 類別型特徵向量分析**"
      ]
    },
    {
      "cell_type": "code",
      "metadata": {
        "colab": {
          "base_uri": "https://localhost:8080/",
          "height": 173
        },
        "id": "DBeyZUds-KSE",
        "outputId": "6cc7d074-4cb0-4326-de5d-ce054cbb5b05"
      },
      "source": [
        "train.describe(include=['O'])"
      ],
      "execution_count": null,
      "outputs": [
        {
          "output_type": "execute_result",
          "data": {
            "text/html": [
              "<div>\n",
              "<style scoped>\n",
              "    .dataframe tbody tr th:only-of-type {\n",
              "        vertical-align: middle;\n",
              "    }\n",
              "\n",
              "    .dataframe tbody tr th {\n",
              "        vertical-align: top;\n",
              "    }\n",
              "\n",
              "    .dataframe thead th {\n",
              "        text-align: right;\n",
              "    }\n",
              "</style>\n",
              "<table border=\"1\" class=\"dataframe\">\n",
              "  <thead>\n",
              "    <tr style=\"text-align: right;\">\n",
              "      <th></th>\n",
              "      <th>Name</th>\n",
              "      <th>Sex</th>\n",
              "      <th>Ticket</th>\n",
              "      <th>Cabin</th>\n",
              "      <th>Embarked</th>\n",
              "    </tr>\n",
              "  </thead>\n",
              "  <tbody>\n",
              "    <tr>\n",
              "      <th>count</th>\n",
              "      <td>891</td>\n",
              "      <td>891</td>\n",
              "      <td>891</td>\n",
              "      <td>204</td>\n",
              "      <td>889</td>\n",
              "    </tr>\n",
              "    <tr>\n",
              "      <th>unique</th>\n",
              "      <td>891</td>\n",
              "      <td>2</td>\n",
              "      <td>681</td>\n",
              "      <td>147</td>\n",
              "      <td>3</td>\n",
              "    </tr>\n",
              "    <tr>\n",
              "      <th>top</th>\n",
              "      <td>Warren, Mrs. Frank Manley (Anna Sophia Atkinson)</td>\n",
              "      <td>male</td>\n",
              "      <td>CA. 2343</td>\n",
              "      <td>G6</td>\n",
              "      <td>S</td>\n",
              "    </tr>\n",
              "    <tr>\n",
              "      <th>freq</th>\n",
              "      <td>1</td>\n",
              "      <td>577</td>\n",
              "      <td>7</td>\n",
              "      <td>4</td>\n",
              "      <td>644</td>\n",
              "    </tr>\n",
              "  </tbody>\n",
              "</table>\n",
              "</div>"
            ],
            "text/plain": [
              "                                                    Name   Sex  ... Cabin Embarked\n",
              "count                                                891   891  ...   204      889\n",
              "unique                                               891     2  ...   147        3\n",
              "top     Warren, Mrs. Frank Manley (Anna Sophia Atkinson)  male  ...    G6        S\n",
              "freq                                                   1   577  ...     4      644\n",
              "\n",
              "[4 rows x 5 columns]"
            ]
          },
          "metadata": {
            "tags": []
          },
          "execution_count": 90
        }
      ]
    },
    {
      "cell_type": "markdown",
      "metadata": {
        "id": "sRbis4sd-9It"
      },
      "source": [
        "* Name均不同\n",
        "\n",
        "* 船上男性乘客多\n",
        "\n",
        "* Ticket和Carbin會有相同的編號，但個數卻較少，可能存在異常\n",
        "\n",
        "* 從S地登船的乘客較多"
      ]
    },
    {
      "cell_type": "markdown",
      "metadata": {
        "id": "113ZGVwhAFKs"
      },
      "source": [
        "**3. 特徵工程**"
      ]
    },
    {
      "cell_type": "markdown",
      "metadata": {
        "id": "EXI6U1EwAXFd"
      },
      "source": [
        "**依照原始數據，我們又可以將11個特徵向量分成以下4類**\n",
        "* Classification(分類向量）: Sex, pclass, Embarked\n",
        "* Continuous（連續向量）: Age, Fare\n",
        "* Discrete（離散向量）: SibSp, Parch\n",
        "* Others（其他向量）: Name, PassengerId, Cabian, Ticket"
      ]
    },
    {
      "cell_type": "code",
      "metadata": {
        "colab": {
          "base_uri": "https://localhost:8080/",
          "height": 320
        },
        "id": "Euw_W0QsAi9y",
        "outputId": "a286eb6a-5129-48c7-a04a-9c93f70ab03d"
      },
      "source": [
        "# visualization\n",
        "import seaborn as sns\n",
        "import matplotlib.pyplot as plt\n",
        "from sklearn.impute import SimpleImputer          # 匯入填補缺失值的工具\n",
        "from sklearn.preprocessing import LabelEncoder    # 匯入 Label Encoder\n",
        "from sklearn.preprocessing import StandardScaler  # 匯入 StandardScaler\n",
        "\n",
        "g = sns.heatmap(train.corr(),annot=True, fmt = \".2f\")"
      ],
      "execution_count": null,
      "outputs": [
        {
          "output_type": "display_data",
          "data": {
            "image/png": "[encoded data removed]",
            "text/plain": [
              "<Figure size 432x288 with 2 Axes>"
            ]
          },
          "metadata": {
            "tags": [],
            "needs_background": "light"
          }
        }
      ]
    },
    {
      "cell_type": "markdown",
      "metadata": {
        "id": "d34rnMrJBFCH"
      },
      "source": [
        "**3.1 Classfication(分類向量）**"
      ]
    },
    {
      "cell_type": "markdown",
      "metadata": {
        "id": "AXSr8H6QBU2C"
      },
      "source": [
        "**3.1.1 Sex**"
      ]
    },
    {
      "cell_type": "code",
      "metadata": {
        "colab": {
          "base_uri": "https://localhost:8080/",
          "height": 399
        },
        "id": "t39oH2XKXhJq",
        "outputId": "4afe69c3-b601-430f-cf43-713734f3101c"
      },
      "source": [
        "g = sns.factorplot(x=\"Sex\", y=\"Survived\",  data=train,\n",
        "                   size=4, kind=\"bar\", palette=\"muted\")\n",
        "g.despine(left=True)\n",
        "g = g.set_ylabels(\"Survival Probability\")"
      ],
      "execution_count": null,
      "outputs": [
        {
          "output_type": "stream",
          "text": [
            "/usr/local/lib/python3.7/dist-packages/seaborn/categorical.py:3714: UserWarning: The `factorplot` function has been renamed to `catplot`. The original name will be removed in a future release. Please update your code. Note that the default `kind` in `factorplot` (`'point'`) has changed `'strip'` in `catplot`.\n",
            "  warnings.warn(msg)\n",
            "/usr/local/lib/python3.7/dist-packages/seaborn/categorical.py:3720: UserWarning: The `size` parameter has been renamed to `height`; please update your code.\n",
            "  warnings.warn(msg, UserWarning)\n"
          ],
          "name": "stderr"
        },
        {
          "output_type": "display_data",
          "data": {
            "image/png": "[encoded data removed]",
            "text/plain": [
              "<Figure size 288x288 with 1 Axes>"
            ]
          },
          "metadata": {
            "tags": [],
            "needs_background": "light"
          }
        }
      ]
    },
    {
      "cell_type": "code",
      "metadata": {
        "colab": {
          "base_uri": "https://localhost:8080/",
          "height": 255
        },
        "id": "UD2QPdt4ArvS",
        "outputId": "10bd525e-2f20-4448-92fe-7a0ad2979893"
      },
      "source": [
        "le = LabelEncoder()  \n",
        "for dataset in combine:\n",
        "    le.fit(dataset['Sex']) #給予每個類別一個數值\n",
        "    dataset['Sex']=le.transform(dataset['Sex'])#轉換每一個類別為數值\n",
        "train.head()"
      ],
      "execution_count": null,
      "outputs": [
        {
          "output_type": "execute_result",
          "data": {
            "text/html": [
              "<div>\n",
              "<style scoped>\n",
              "    .dataframe tbody tr th:only-of-type {\n",
              "        vertical-align: middle;\n",
              "    }\n",
              "\n",
              "    .dataframe tbody tr th {\n",
              "        vertical-align: top;\n",
              "    }\n",
              "\n",
              "    .dataframe thead th {\n",
              "        text-align: right;\n",
              "    }\n",
              "</style>\n",
              "<table border=\"1\" class=\"dataframe\">\n",
              "  <thead>\n",
              "    <tr style=\"text-align: right;\">\n",
              "      <th></th>\n",
              "      <th>PassengerId</th>\n",
              "      <th>Survived</th>\n",
              "      <th>Pclass</th>\n",
              "      <th>Name</th>\n",
              "      <th>Sex</th>\n",
              "      <th>Age</th>\n",
              "      <th>SibSp</th>\n",
              "      <th>Parch</th>\n",
              "      <th>Ticket</th>\n",
              "      <th>Fare</th>\n",
              "      <th>Cabin</th>\n",
              "      <th>Embarked</th>\n",
              "    </tr>\n",
              "  </thead>\n",
              "  <tbody>\n",
              "    <tr>\n",
              "      <th>0</th>\n",
              "      <td>1</td>\n",
              "      <td>0</td>\n",
              "      <td>3</td>\n",
              "      <td>Braund, Mr. Owen Harris</td>\n",
              "      <td>1</td>\n",
              "      <td>22.0</td>\n",
              "      <td>1</td>\n",
              "      <td>0</td>\n",
              "      <td>A/5 21171</td>\n",
              "      <td>7.2500</td>\n",
              "      <td>NaN</td>\n",
              "      <td>S</td>\n",
              "    </tr>\n",
              "    <tr>\n",
              "      <th>1</th>\n",
              "      <td>2</td>\n",
              "      <td>1</td>\n",
              "      <td>1</td>\n",
              "      <td>Cumings, Mrs. John Bradley (Florence Briggs Th...</td>\n",
              "      <td>0</td>\n",
              "      <td>38.0</td>\n",
              "      <td>1</td>\n",
              "      <td>0</td>\n",
              "      <td>PC 17599</td>\n",
              "      <td>71.2833</td>\n",
              "      <td>C85</td>\n",
              "      <td>C</td>\n",
              "    </tr>\n",
              "    <tr>\n",
              "      <th>2</th>\n",
              "      <td>3</td>\n",
              "      <td>1</td>\n",
              "      <td>3</td>\n",
              "      <td>Heikkinen, Miss. Laina</td>\n",
              "      <td>0</td>\n",
              "      <td>26.0</td>\n",
              "      <td>0</td>\n",
              "      <td>0</td>\n",
              "      <td>STON/O2. 3101282</td>\n",
              "      <td>7.9250</td>\n",
              "      <td>NaN</td>\n",
              "      <td>S</td>\n",
              "    </tr>\n",
              "    <tr>\n",
              "      <th>3</th>\n",
              "      <td>4</td>\n",
              "      <td>1</td>\n",
              "      <td>1</td>\n",
              "      <td>Futrelle, Mrs. Jacques Heath (Lily May Peel)</td>\n",
              "      <td>0</td>\n",
              "      <td>35.0</td>\n",
              "      <td>1</td>\n",
              "      <td>0</td>\n",
              "      <td>113803</td>\n",
              "      <td>53.1000</td>\n",
              "      <td>C123</td>\n",
              "      <td>S</td>\n",
              "    </tr>\n",
              "    <tr>\n",
              "      <th>4</th>\n",
              "      <td>5</td>\n",
              "      <td>0</td>\n",
              "      <td>3</td>\n",
              "      <td>Allen, Mr. William Henry</td>\n",
              "      <td>1</td>\n",
              "      <td>35.0</td>\n",
              "      <td>0</td>\n",
              "      <td>0</td>\n",
              "      <td>373450</td>\n",
              "      <td>8.0500</td>\n",
              "      <td>NaN</td>\n",
              "      <td>S</td>\n",
              "    </tr>\n",
              "  </tbody>\n",
              "</table>\n",
              "</div>"
            ],
            "text/plain": [
              "   PassengerId  Survived  Pclass  ...     Fare  Cabin  Embarked\n",
              "0            1         0       3  ...   7.2500    NaN         S\n",
              "1            2         1       1  ...  71.2833    C85         C\n",
              "2            3         1       3  ...   7.9250    NaN         S\n",
              "3            4         1       1  ...  53.1000   C123         S\n",
              "4            5         0       3  ...   8.0500    NaN         S\n",
              "\n",
              "[5 rows x 12 columns]"
            ]
          },
          "metadata": {
            "tags": []
          },
          "execution_count": 93
        }
      ]
    },
    {
      "cell_type": "markdown",
      "metadata": {
        "id": "utWiyNraGINJ"
      },
      "source": [
        "\n",
        "\n",
        "*   **Sex: 得知女性的存活率遠大於男性**\n",
        "\n"
      ]
    },
    {
      "cell_type": "markdown",
      "metadata": {
        "id": "rd_mFQ9pG2ZK"
      },
      "source": [
        "**3.1.2 pclass**"
      ]
    },
    {
      "cell_type": "code",
      "metadata": {
        "colab": {
          "base_uri": "https://localhost:8080/",
          "height": 399
        },
        "id": "2984SXw5Gsnb",
        "outputId": "5d8f0186-1bbf-48ab-8c07-67bb4f6bb072"
      },
      "source": [
        "g = sns.factorplot(x=\"Pclass\", y=\"Survived\",  data=train,\n",
        "                   size=4, kind=\"bar\", palette=\"muted\")\n",
        "g.despine(left=True)\n",
        "g = g.set_ylabels(\"Survival Probability\")"
      ],
      "execution_count": null,
      "outputs": [
        {
          "output_type": "stream",
          "text": [
            "/usr/local/lib/python3.7/dist-packages/seaborn/categorical.py:3714: UserWarning: The `factorplot` function has been renamed to `catplot`. The original name will be removed in a future release. Please update your code. Note that the default `kind` in `factorplot` (`'point'`) has changed `'strip'` in `catplot`.\n",
            "  warnings.warn(msg)\n",
            "/usr/local/lib/python3.7/dist-packages/seaborn/categorical.py:3720: UserWarning: The `size` parameter has been renamed to `height`; please update your code.\n",
            "  warnings.warn(msg, UserWarning)\n"
          ],
          "name": "stderr"
        },
        {
          "output_type": "display_data",
          "data": {
            "image/png": "[encoded data removed]",
            "text/plain": [
              "<Figure size 288x288 with 1 Axes>"
            ]
          },
          "metadata": {
            "tags": [],
            "needs_background": "light"
          }
        }
      ]
    },
    {
      "cell_type": "markdown",
      "metadata": {
        "id": "n94x-CFAHTli"
      },
      "source": [
        "\n",
        "\n",
        "*   **Pclass: 船艙等级越高，存活率越高**\n",
        "\n",
        "\n"
      ]
    },
    {
      "cell_type": "markdown",
      "metadata": {
        "id": "Xj1Ub69yH-9c"
      },
      "source": [
        "**3.1.3 Embarked** "
      ]
    },
    {
      "cell_type": "code",
      "metadata": {
        "colab": {
          "base_uri": "https://localhost:8080/",
          "height": 399
        },
        "id": "AnR15STkXZtq",
        "outputId": "736f9e1a-de33-42ef-b9d0-a788527b4a0c"
      },
      "source": [
        "g = sns.factorplot(x=\"Embarked\", y=\"Survived\",  data=train,\n",
        "                   size=4, kind=\"bar\", palette=\"muted\")\n",
        "g.despine(left=True)\n",
        "g = g.set_ylabels(\"Survival Probability\")"
      ],
      "execution_count": null,
      "outputs": [
        {
          "output_type": "stream",
          "text": [
            "/usr/local/lib/python3.7/dist-packages/seaborn/categorical.py:3714: UserWarning: The `factorplot` function has been renamed to `catplot`. The original name will be removed in a future release. Please update your code. Note that the default `kind` in `factorplot` (`'point'`) has changed `'strip'` in `catplot`.\n",
            "  warnings.warn(msg)\n",
            "/usr/local/lib/python3.7/dist-packages/seaborn/categorical.py:3720: UserWarning: The `size` parameter has been renamed to `height`; please update your code.\n",
            "  warnings.warn(msg, UserWarning)\n"
          ],
          "name": "stderr"
        },
        {
          "output_type": "display_data",
          "data": {
            "image/png": "[encoded data removed]",
            "text/plain": [
              "<Figure size 288x288 with 1 Axes>"
            ]
          },
          "metadata": {
            "tags": [],
            "needs_background": "light"
          }
        }
      ]
    },
    {
      "cell_type": "code",
      "metadata": {
        "id": "eaWIm9T8BWqx",
        "colab": {
          "base_uri": "https://localhost:8080/",
          "height": 255
        },
        "outputId": "db0c6920-5837-4907-973d-129fe004e661"
      },
      "source": [
        "#處理Embarked缺失值\n",
        "#用眾數填補缺失值\n",
        "for dataset in combine:\n",
        "    dataset['Embarked'] = dataset['Embarked'].fillna(dataset.Embarked.dropna().mode()[0])\n",
        "\n",
        "#轉換每一個類別為數值\n",
        "for dataset in combine:\n",
        "    dataset['Embarked'] = dataset['Embarked'].map( {'S': 0, 'C': 1, 'Q': 2} ).astype(int)\n",
        "\n",
        "train.head()"
      ],
      "execution_count": null,
      "outputs": [
        {
          "output_type": "execute_result",
          "data": {
            "text/html": [
              "<div>\n",
              "<style scoped>\n",
              "    .dataframe tbody tr th:only-of-type {\n",
              "        vertical-align: middle;\n",
              "    }\n",
              "\n",
              "    .dataframe tbody tr th {\n",
              "        vertical-align: top;\n",
              "    }\n",
              "\n",
              "    .dataframe thead th {\n",
              "        text-align: right;\n",
              "    }\n",
              "</style>\n",
              "<table border=\"1\" class=\"dataframe\">\n",
              "  <thead>\n",
              "    <tr style=\"text-align: right;\">\n",
              "      <th></th>\n",
              "      <th>PassengerId</th>\n",
              "      <th>Survived</th>\n",
              "      <th>Pclass</th>\n",
              "      <th>Name</th>\n",
              "      <th>Sex</th>\n",
              "      <th>Age</th>\n",
              "      <th>SibSp</th>\n",
              "      <th>Parch</th>\n",
              "      <th>Ticket</th>\n",
              "      <th>Fare</th>\n",
              "      <th>Cabin</th>\n",
              "      <th>Embarked</th>\n",
              "    </tr>\n",
              "  </thead>\n",
              "  <tbody>\n",
              "    <tr>\n",
              "      <th>0</th>\n",
              "      <td>1</td>\n",
              "      <td>0</td>\n",
              "      <td>3</td>\n",
              "      <td>Braund, Mr. Owen Harris</td>\n",
              "      <td>1</td>\n",
              "      <td>22.0</td>\n",
              "      <td>1</td>\n",
              "      <td>0</td>\n",
              "      <td>A/5 21171</td>\n",
              "      <td>7.2500</td>\n",
              "      <td>NaN</td>\n",
              "      <td>0</td>\n",
              "    </tr>\n",
              "    <tr>\n",
              "      <th>1</th>\n",
              "      <td>2</td>\n",
              "      <td>1</td>\n",
              "      <td>1</td>\n",
              "      <td>Cumings, Mrs. John Bradley (Florence Briggs Th...</td>\n",
              "      <td>0</td>\n",
              "      <td>38.0</td>\n",
              "      <td>1</td>\n",
              "      <td>0</td>\n",
              "      <td>PC 17599</td>\n",
              "      <td>71.2833</td>\n",
              "      <td>C85</td>\n",
              "      <td>1</td>\n",
              "    </tr>\n",
              "    <tr>\n",
              "      <th>2</th>\n",
              "      <td>3</td>\n",
              "      <td>1</td>\n",
              "      <td>3</td>\n",
              "      <td>Heikkinen, Miss. Laina</td>\n",
              "      <td>0</td>\n",
              "      <td>26.0</td>\n",
              "      <td>0</td>\n",
              "      <td>0</td>\n",
              "      <td>STON/O2. 3101282</td>\n",
              "      <td>7.9250</td>\n",
              "      <td>NaN</td>\n",
              "      <td>0</td>\n",
              "    </tr>\n",
              "    <tr>\n",
              "      <th>3</th>\n",
              "      <td>4</td>\n",
              "      <td>1</td>\n",
              "      <td>1</td>\n",
              "      <td>Futrelle, Mrs. Jacques Heath (Lily May Peel)</td>\n",
              "      <td>0</td>\n",
              "      <td>35.0</td>\n",
              "      <td>1</td>\n",
              "      <td>0</td>\n",
              "      <td>113803</td>\n",
              "      <td>53.1000</td>\n",
              "      <td>C123</td>\n",
              "      <td>0</td>\n",
              "    </tr>\n",
              "    <tr>\n",
              "      <th>4</th>\n",
              "      <td>5</td>\n",
              "      <td>0</td>\n",
              "      <td>3</td>\n",
              "      <td>Allen, Mr. William Henry</td>\n",
              "      <td>1</td>\n",
              "      <td>35.0</td>\n",
              "      <td>0</td>\n",
              "      <td>0</td>\n",
              "      <td>373450</td>\n",
              "      <td>8.0500</td>\n",
              "      <td>NaN</td>\n",
              "      <td>0</td>\n",
              "    </tr>\n",
              "  </tbody>\n",
              "</table>\n",
              "</div>"
            ],
            "text/plain": [
              "   PassengerId  Survived  Pclass  ...     Fare  Cabin  Embarked\n",
              "0            1         0       3  ...   7.2500    NaN         0\n",
              "1            2         1       1  ...  71.2833    C85         1\n",
              "2            3         1       3  ...   7.9250    NaN         0\n",
              "3            4         1       1  ...  53.1000   C123         0\n",
              "4            5         0       3  ...   8.0500    NaN         0\n",
              "\n",
              "[5 rows x 12 columns]"
            ]
          },
          "metadata": {
            "tags": []
          },
          "execution_count": 96
        }
      ]
    },
    {
      "cell_type": "markdown",
      "metadata": {
        "id": "rn4Jwgy7Khvt"
      },
      "source": [
        "\n",
        "\n",
        "* **Embarked:得知從C地登船的存活率高於其他兩地, 而從S,Q兩地登船存活率差不多**\n",
        "\n",
        "\n"
      ]
    },
    {
      "cell_type": "markdown",
      "metadata": {
        "id": "-awMThBOLGrb"
      },
      "source": [
        "**3.2 Continuous（連續向量)**"
      ]
    },
    {
      "cell_type": "markdown",
      "metadata": {
        "id": "wP31QW6eL9cK"
      },
      "source": [
        "**3.2.1 Age**"
      ]
    },
    {
      "cell_type": "code",
      "metadata": {
        "colab": {
          "base_uri": "https://localhost:8080/",
          "height": 242
        },
        "id": "PJLZIsCEX4jH",
        "outputId": "0b08af5a-020c-47b6-acad-6c9bc7ac2b1f"
      },
      "source": [
        "#死亡與存活的人的年齡分佈\n",
        "g = sns.FacetGrid(train, col='Survived')\n",
        "g.map(plt.hist, 'Age', bins=20)"
      ],
      "execution_count": null,
      "outputs": [
        {
          "output_type": "execute_result",
          "data": {
            "text/plain": [
              "<seaborn.axisgrid.FacetGrid at 0x7f5e3a90df90>"
            ]
          },
          "metadata": {
            "tags": []
          },
          "execution_count": 97
        },
        {
          "output_type": "display_data",
          "data": {
            "image/png": "[encoded data removed]",
            "text/plain": [
              "<Figure size 432x216 with 2 Axes>"
            ]
          },
          "metadata": {
            "tags": [],
            "needs_background": "light"
          }
        }
      ]
    },
    {
      "cell_type": "code",
      "metadata": {
        "id": "5KAaz0o6Bdip"
      },
      "source": [
        "#處理缺失值\n",
        "guess_ages = np.zeros((2,3))#放置缺失值要補的值的array\n",
        "for dataset in combine:\n",
        "    for i in range(0, 2):\n",
        "        for j in range(0, 3):\n",
        "\n",
        "            #將缺少'Age'的那一格，先找出其對應的Sex,Pclass的dataset,在找出該dataset中沒有缺失'Age'的所有資料的Age中位數\n",
        "            guess_df = dataset[(dataset['Sex'] == i) & (dataset['Pclass'] == j+1)]['Age'].dropna()\n",
        "\n",
        "            #再將缺失值設為所算出的中位數\n",
        "            guess_ages[i,j] = round(guess_df.median(),0)\n",
        "\n",
        "    for i in range(0, 2):\n",
        "        for j in range(0, 3):\n",
        "            dataset.loc[ (dataset.Age.isnull()) & (dataset.Sex == i) & (dataset.Pclass == j+1),'Age'] = guess_ages[i,j]\n",
        "\n",
        "#Age分布太寬，做一下scaling，加速模型收斂(Normalization)\n",
        "scaler = StandardScaler()\n",
        "for dataset in combine:\n",
        "  fare_scale_param = scaler.fit(dataset['Age'].values.reshape(-1, 1))\n",
        "  dataset.Age = fare_scale_param.transform(dataset['Age'].values.reshape(-1, 1))"
      ],
      "execution_count": null,
      "outputs": []
    },
    {
      "cell_type": "markdown",
      "metadata": {
        "id": "vSQSDyBykSsh"
      },
      "source": [
        "**Age:**\n",
        "\n",
        "\n",
        "* 越年輕越容易生存\n",
        "* 死亡的年齡分布較存活人的年齡分布集中\n",
        "\n"
      ]
    },
    {
      "cell_type": "markdown",
      "metadata": {
        "id": "m-n8vcUo6agC"
      },
      "source": [
        "**3.2.2 Fare**"
      ]
    },
    {
      "cell_type": "code",
      "metadata": {
        "colab": {
          "base_uri": "https://localhost:8080/",
          "height": 242
        },
        "id": "YDoh7r7Fisgg",
        "outputId": "24d941f9-ea95-42ba-dfd5-b40f3a9641b8"
      },
      "source": [
        "#死亡與存活的人的Fare分佈\n",
        "g = sns.FacetGrid(train, col='Survived')\n",
        "g.map(plt.hist, 'Fare', bins=10)"
      ],
      "execution_count": null,
      "outputs": [
        {
          "output_type": "execute_result",
          "data": {
            "text/plain": [
              "<seaborn.axisgrid.FacetGrid at 0x7f5e37e13b50>"
            ]
          },
          "metadata": {
            "tags": []
          },
          "execution_count": 99
        },
        {
          "output_type": "display_data",
          "data": {
            "image/png": "[encoded data removed]",
            "text/plain": [
              "<Figure size 432x216 with 2 Axes>"
            ]
          },
          "metadata": {
            "tags": [],
            "needs_background": "light"
          }
        }
      ]
    },
    {
      "cell_type": "code",
      "metadata": {
        "id": "4JTa_ImjjTUN"
      },
      "source": [
        "#處理Fare的缺失值\n",
        "#用眾數填補缺失值\n",
        "for dataset in combine:\n",
        "    dataset['Fare'] = dataset['Fare'].fillna(dataset.Fare.dropna().mode()[0])\n",
        "    \n",
        "#Fare分布太寬，做一下scaling，加速模型收斂(Normalization)\n",
        "for dataset in combine:\n",
        "  fare_scale_param = scaler.fit(dataset['Fare'].values.reshape(-1, 1))\n",
        "  dataset.Fare = fare_scale_param.transform(dataset['Fare'].values.reshape(-1, 1))"
      ],
      "execution_count": null,
      "outputs": []
    },
    {
      "cell_type": "markdown",
      "metadata": {
        "id": "ECfrO89w8Y7O"
      },
      "source": [
        "**Fare: 票價越貴存活率越高** \n",
        "\n",
        "\n"
      ]
    },
    {
      "cell_type": "markdown",
      "metadata": {
        "id": "d0G_sgEQ8_61"
      },
      "source": [
        "**3.3 Discrete（離散向量）**"
      ]
    },
    {
      "cell_type": "markdown",
      "metadata": {
        "id": "n-Ey1Mkw9Nog"
      },
      "source": [
        "**3.3.1 SibSp**"
      ]
    },
    {
      "cell_type": "code",
      "metadata": {
        "colab": {
          "base_uri": "https://localhost:8080/",
          "height": 399
        },
        "id": "-rot8L5u9Qis",
        "outputId": "6cf7a605-c3d9-4fd5-c34d-8ea2638b7bf1"
      },
      "source": [
        "g = sns.factorplot(x=\"SibSp\", y=\"Survived\",  data=train,\n",
        "                   size=4, kind=\"bar\", palette=\"muted\")\n",
        "g.despine(left=True)\n",
        "g = g.set_ylabels(\"Survival Probability\")"
      ],
      "execution_count": null,
      "outputs": [
        {
          "output_type": "stream",
          "text": [
            "/usr/local/lib/python3.7/dist-packages/seaborn/categorical.py:3714: UserWarning: The `factorplot` function has been renamed to `catplot`. The original name will be removed in a future release. Please update your code. Note that the default `kind` in `factorplot` (`'point'`) has changed `'strip'` in `catplot`.\n",
            "  warnings.warn(msg)\n",
            "/usr/local/lib/python3.7/dist-packages/seaborn/categorical.py:3720: UserWarning: The `size` parameter has been renamed to `height`; please update your code.\n",
            "  warnings.warn(msg, UserWarning)\n"
          ],
          "name": "stderr"
        },
        {
          "output_type": "display_data",
          "data": {
            "image/png": "[encoded data removed]",
            "text/plain": [
              "<Figure size 288x288 with 1 Axes>"
            ]
          },
          "metadata": {
            "tags": [],
            "needs_background": "light"
          }
        }
      ]
    },
    {
      "cell_type": "markdown",
      "metadata": {
        "id": "7t86hlCU9h9G"
      },
      "source": [
        "**Sibsp: 船上兄弟姊妹和配偶越多的人存活率越低**"
      ]
    },
    {
      "cell_type": "markdown",
      "metadata": {
        "id": "HJUvH4Ay9pVA"
      },
      "source": [
        "**3.3.2 Parch**"
      ]
    },
    {
      "cell_type": "code",
      "metadata": {
        "colab": {
          "base_uri": "https://localhost:8080/",
          "height": 399
        },
        "id": "Pjsr_5DX9YrW",
        "outputId": "36c24254-8770-452b-d0da-d7cdb99b140c"
      },
      "source": [
        "g = sns.factorplot(x=\"Parch\", y=\"Survived\",  data=train,\n",
        "                   size=4, kind=\"bar\", palette=\"muted\")\n",
        "g.despine(left=True)\n",
        "g = g.set_ylabels(\"Survival Probability\")"
      ],
      "execution_count": null,
      "outputs": [
        {
          "output_type": "stream",
          "text": [
            "/usr/local/lib/python3.7/dist-packages/seaborn/categorical.py:3714: UserWarning: The `factorplot` function has been renamed to `catplot`. The original name will be removed in a future release. Please update your code. Note that the default `kind` in `factorplot` (`'point'`) has changed `'strip'` in `catplot`.\n",
            "  warnings.warn(msg)\n",
            "/usr/local/lib/python3.7/dist-packages/seaborn/categorical.py:3720: UserWarning: The `size` parameter has been renamed to `height`; please update your code.\n",
            "  warnings.warn(msg, UserWarning)\n"
          ],
          "name": "stderr"
        },
        {
          "output_type": "display_data",
          "data": {
            "image/png": "[encoded data removed]",
            "text/plain": [
              "<Figure size 288x288 with 1 Axes>"
            ]
          },
          "metadata": {
            "tags": [],
            "needs_background": "light"
          }
        }
      ]
    },
    {
      "cell_type": "markdown",
      "metadata": {
        "id": "LIK9Q3Kf93TK"
      },
      "source": [
        "**Parch: 船上父母和孩子在3個以內的人存活率越高**"
      ]
    },
    {
      "cell_type": "markdown",
      "metadata": {
        "id": "SWfgyGdRBYUg"
      },
      "source": [
        "**3.3.4 新增一個new feature 'Family'**"
      ]
    },
    {
      "cell_type": "code",
      "metadata": {
        "id": "7pSesKEsBXkI"
      },
      "source": [
        "#Family=Sibling&Spouse+Parch+Yourself\n",
        "for dataset in combine:\n",
        "  dataset['Family']=dataset['SibSp']+dataset['Parch']+1 "
      ],
      "execution_count": null,
      "outputs": []
    },
    {
      "cell_type": "code",
      "metadata": {
        "colab": {
          "base_uri": "https://localhost:8080/",
          "height": 399
        },
        "id": "0_KVOAaICc_3",
        "outputId": "06c221d4-ed77-48aa-8fba-78d68cdd9cd7"
      },
      "source": [
        "g = sns.factorplot(x=\"Family\", y=\"Survived\",  data=train,\n",
        "                   size=4, kind=\"bar\", palette=\"muted\")\n",
        "g.despine(left=True)\n",
        "g = g.set_ylabels(\"Survival Probability\")"
      ],
      "execution_count": null,
      "outputs": [
        {
          "output_type": "stream",
          "text": [
            "/usr/local/lib/python3.7/dist-packages/seaborn/categorical.py:3714: UserWarning: The `factorplot` function has been renamed to `catplot`. The original name will be removed in a future release. Please update your code. Note that the default `kind` in `factorplot` (`'point'`) has changed `'strip'` in `catplot`.\n",
            "  warnings.warn(msg)\n",
            "/usr/local/lib/python3.7/dist-packages/seaborn/categorical.py:3720: UserWarning: The `size` parameter has been renamed to `height`; please update your code.\n",
            "  warnings.warn(msg, UserWarning)\n"
          ],
          "name": "stderr"
        },
        {
          "output_type": "display_data",
          "data": {
            "image/png": "[encoded data removed]",
            "text/plain": [
              "<Figure size 288x288 with 1 Axes>"
            ]
          },
          "metadata": {
            "tags": [],
            "needs_background": "light"
          }
        }
      ]
    },
    {
      "cell_type": "markdown",
      "metadata": {
        "id": "Oj7abzG7DZ_G"
      },
      "source": [
        "\n",
        "\n",
        "* **Family: Family人數越多存活率越低**\n",
        "\n"
      ]
    },
    {
      "cell_type": "markdown",
      "metadata": {
        "id": "z6HVsNj7-Tdv"
      },
      "source": [
        "**3.4 Others(其他向量）**"
      ]
    },
    {
      "cell_type": "markdown",
      "metadata": {
        "id": "PXu4rNfv_bMX"
      },
      "source": [
        " **3.4.1 Ticket**"
      ]
    },
    {
      "cell_type": "code",
      "metadata": {
        "colab": {
          "base_uri": "https://localhost:8080/"
        },
        "id": "uYmes4TM_CQK",
        "outputId": "79c26279-ac26-4806-83b7-bdaa30e730a1"
      },
      "source": [
        "#把Ticket label化\n",
        "for dataset in combine:\n",
        "  tickets = []\n",
        "  for i in list(dataset.Ticket):\n",
        "    if not i.isdigit():#若ticket非數字\n",
        "        tickets.append(i.replace(\".\",\"\").replace(\"/\",\"\").strip().split(\" \")[0])\n",
        "    else:\n",
        "         tickets.append(\"X\") \n",
        "  dataset['Ticket']=tickets\n",
        "\n",
        "for dataset in combine:\n",
        "    le.fit(dataset['Ticket']) #給予每個類別一個數值\n",
        "    dataset['Ticket']=le.transform(dataset['Ticket'])#轉換每一個類別為數值\n",
        "\n",
        "train['Ticket'].head()"
      ],
      "execution_count": null,
      "outputs": [
        {
          "output_type": "execute_result",
          "data": {
            "text/plain": [
              "0     1\n",
              "1    10\n",
              "2    26\n",
              "3    30\n",
              "4    30\n",
              "Name: Ticket, dtype: int64"
            ]
          },
          "metadata": {
            "tags": []
          },
          "execution_count": 105
        }
      ]
    },
    {
      "cell_type": "markdown",
      "metadata": {
        "id": "voAzEAHjk0QC"
      },
      "source": [
        "**3.4.2 Name**"
      ]
    },
    {
      "cell_type": "code",
      "metadata": {
        "id": "b_uRajLU3Xcu"
      },
      "source": [
        "for dataset in combine:\n",
        "  name = dataset[\"Name\"]\n",
        "  dataset[\"Title\"] = [i.split(\".\")[0].split(\",\")[-1].strip() for i in name]"
      ],
      "execution_count": null,
      "outputs": []
    },
    {
      "cell_type": "code",
      "metadata": {
        "colab": {
          "base_uri": "https://localhost:8080/",
          "height": 620
        },
        "id": "kGJ_Via-4d17",
        "outputId": "85955b5f-66a1-44a9-a1c0-167429b82576"
      },
      "source": [
        "sns.countplot(x=\"Title\", data = train)\n",
        "plt.xticks(rotation = 60)\n",
        "plt.show()\n",
        "\n",
        "sns.countplot(x=\"Title\", data = test)\n",
        "plt.xticks(rotation = 60)\n",
        "plt.show()"
      ],
      "execution_count": null,
      "outputs": [
        {
          "output_type": "display_data",
          "data": {
            "image/png": "[encoded data removed]",
            "text/plain": [
              "<Figure size 432x288 with 1 Axes>"
            ]
          },
          "metadata": {
            "tags": [],
            "needs_background": "light"
          }
        },
        {
          "output_type": "display_data",
          "data": {
            "image/png": "[encoded data removed]",
            "text/plain": [
              "<Figure size 432x288 with 1 Axes>"
            ]
          },
          "metadata": {
            "tags": [],
            "needs_background": "light"
          }
        }
      ]
    },
    {
      "cell_type": "code",
      "metadata": {
        "colab": {
          "base_uri": "https://localhost:8080/"
        },
        "id": "hhJA8mia4yw0",
        "outputId": "2f9ae47e-c44b-49ee-8747-033046cb040a"
      },
      "source": [
        "#把Mr,Miss,Mrs,Master這些佔比較多的數值化\n",
        "title_mapping = {'Mr': 1, 'Miss': 2, 'Mrs': 3, 'Master': 4}\n",
        "for dataset in combine:\n",
        "    dataset['Title'] = dataset['Title'].map(title_mapping)\n",
        "import math\n",
        "#把非Mr,Miss,Mrs,Master的數值化,並歸在同一類\n",
        "for dataset in combine:\n",
        "  title = []\n",
        "  for i in list(dataset.Title):\n",
        "    if math.isnan(i):#若ticket非數字\n",
        "         title.append(5.0)\n",
        "    else:\n",
        "        title.append(i)\n",
        "  dataset['Title']=title\n",
        "\n",
        "train['Title']"
      ],
      "execution_count": null,
      "outputs": [
        {
          "output_type": "execute_result",
          "data": {
            "text/plain": [
              "0      1.0\n",
              "1      3.0\n",
              "2      2.0\n",
              "3      3.0\n",
              "4      1.0\n",
              "      ... \n",
              "886    5.0\n",
              "887    2.0\n",
              "888    2.0\n",
              "889    1.0\n",
              "890    1.0\n",
              "Name: Title, Length: 891, dtype: float64"
            ]
          },
          "metadata": {
            "tags": []
          },
          "execution_count": 108
        }
      ]
    },
    {
      "cell_type": "code",
      "metadata": {
        "colab": {
          "base_uri": "https://localhost:8080/",
          "height": 399
        },
        "id": "TwhrA2T1669C",
        "outputId": "9b922963-e837-4781-ce54-85df2dd03a02"
      },
      "source": [
        "g = sns.factorplot(x=\"Title\", y=\"Survived\",  data=train,\n",
        "                   size=4, kind=\"bar\", palette=\"muted\")\n",
        "g.despine(left=True)\n",
        "g = g.set_ylabels(\"Survival Probability\")"
      ],
      "execution_count": null,
      "outputs": [
        {
          "output_type": "stream",
          "text": [
            "/usr/local/lib/python3.7/dist-packages/seaborn/categorical.py:3714: UserWarning: The `factorplot` function has been renamed to `catplot`. The original name will be removed in a future release. Please update your code. Note that the default `kind` in `factorplot` (`'point'`) has changed `'strip'` in `catplot`.\n",
            "  warnings.warn(msg)\n",
            "/usr/local/lib/python3.7/dist-packages/seaborn/categorical.py:3720: UserWarning: The `size` parameter has been renamed to `height`; please update your code.\n",
            "  warnings.warn(msg, UserWarning)\n"
          ],
          "name": "stderr"
        },
        {
          "output_type": "display_data",
          "data": {
            "image/png": "[encoded data removed]",
            "text/plain": [
              "<Figure size 288x288 with 1 Axes>"
            ]
          },
          "metadata": {
            "tags": [],
            "needs_background": "light"
          }
        }
      ]
    },
    {
      "cell_type": "markdown",
      "metadata": {
        "id": "g-dlCeZ07THx"
      },
      "source": [
        "**Name(Title): 可發現名字的Title為Mrs(2),Miss(3)的存活率較高，和前面分析的female存活率較高吻合**"
      ]
    },
    {
      "cell_type": "markdown",
      "metadata": {
        "id": "bcD1FJ2n-dFb"
      },
      "source": [
        "**3.4.3 PassengerId & Cabin**"
      ]
    },
    {
      "cell_type": "markdown",
      "metadata": {
        "id": "yGPCoRdz_EJk"
      },
      "source": [
        "\n",
        "\n",
        "*   PassengerId和存活率基本無關聯，不採用\n",
        "*   Cabin資料缺失多且較雜亂，不採用\n",
        "\n"
      ]
    },
    {
      "cell_type": "markdown",
      "metadata": {
        "id": "omky5QesASqP"
      },
      "source": [
        "**4. 篩選特徵向量**"
      ]
    },
    {
      "cell_type": "code",
      "metadata": {
        "colab": {
          "base_uri": "https://localhost:8080/",
          "height": 354
        },
        "id": "zOlY6-34AMir",
        "outputId": "1d8f4681-d304-4ce4-e944-81c0be07ffb3"
      },
      "source": [
        "print(train.columns.values)\n",
        "g = sns.heatmap(train.corr(),annot=True, fmt = \".2f\")"
      ],
      "execution_count": null,
      "outputs": [
        {
          "output_type": "stream",
          "text": [
            "['PassengerId' 'Survived' 'Pclass' 'Name' 'Sex' 'Age' 'SibSp' 'Parch'\n",
            " 'Ticket' 'Fare' 'Cabin' 'Embarked' 'Family' 'Title']\n"
          ],
          "name": "stdout"
        },
        {
          "output_type": "display_data",
          "data": {
            "image/png": "[encoded data removed]",
            "text/plain": [
              "<Figure size 432x288 with 2 Axes>"
            ]
          },
          "metadata": {
            "tags": [],
            "needs_background": "light"
          }
        }
      ]
    },
    {
      "cell_type": "markdown",
      "metadata": {
        "id": "oBKFqu736Hb9"
      },
      "source": [
        "**選用經過資料處理的Pclass,Sex,Age,Ticket,Fare,Embarked,Family,Title作為特徵向量**"
      ]
    },
    {
      "cell_type": "code",
      "metadata": {
        "id": "nmst6D7i8JCa"
      },
      "source": [
        "train_x= train[['Pclass','Sex','Age','Ticket','Fare','Embarked','Family','Title']]\n",
        "train_y=train['Survived']"
      ],
      "execution_count": null,
      "outputs": []
    },
    {
      "cell_type": "markdown",
      "metadata": {
        "id": "XnPh0TblBqm7"
      },
      "source": [
        "## 模型訓練\n",
        "\n",
        "請在此區塊後使用**一個或多個區塊**進行模型訓練，**需要**包含以下內容：\n",
        "\n",
        "- **選擇模型**\n",
        "    - 設定模型**超參數**\n",
        "    - **控制隨機亂數**\n",
        "- 計算**準確度（Accuracy）**\n",
        "    - 使用 **5-fold cross validation**，輸出**平均準確度**\n",
        "    - 最後再使用**所有**資料進行訓練並輸出**準確度**\n",
        "    - 準確度必須**超越**課堂使用的範例\n",
        "    \n",
        "如果有進行多於一個以上的實驗，**可以保留所有**的實驗結果，但是執行時間將會納入**全部**實驗。"
      ]
    },
    {
      "cell_type": "code",
      "metadata": {
        "id": "I5WLEdYxBqm7",
        "colab": {
          "base_uri": "https://localhost:8080/"
        },
        "outputId": "0afa22f9-025b-4cb4-ed25-f0a75df5165a"
      },
      "source": [
        "# 模型訓練\n",
        "# machine learning\n",
        "from sklearn.tree import DecisionTreeClassifier\n",
        "from sklearn.svm import SVC, LinearSVC\n",
        "from sklearn.linear_model import SGDClassifier\n",
        "from sklearn.linear_model import LogisticRegression\n",
        "from sklearn.ensemble import RandomForestClassifier\n",
        "from sklearn.ensemble import BaggingClassifier\n",
        "from sklearn.model_selection import KFold             # 匯入 K 次交叉驗證工具\n",
        "from sklearn.metrics import accuracy_score            # 匯入準確度計算工具\n",
        "kf = KFold(n_splits=5,                                # 設定 K 值\n",
        "           random_state=1012,\n",
        "           shuffle=True)\n",
        "kf.get_n_splits(train_x)                              # 給予資料範圍\n",
        "\n",
        "train_acc_list = []                                   # 儲存每次訓練模型的準確度\n",
        "valid_acc_list = []                                   # 儲存每次驗證模型的準確度\n",
        "\n",
        "#定義print accuracy的函式   \n",
        "def printAccuracy(train_acc_list,valid_acc_list):\n",
        "  print((\n",
        "    'average train accuracy: {}\\n' +\n",
        "    '    min train accuracy: {}\\n' +\n",
        "    '    max train accuracy: {}\\n' +\n",
        "    'average valid accuracy: {}\\n' +\n",
        "    '    min valid accuracy: {}\\n' +\n",
        "    '    max valid accuracy: {}').format(\n",
        "    np.mean(train_acc_list),                          # 輸出平均訓練準確度\n",
        "    np.min(train_acc_list),                           # 輸出最低訓練準確度\n",
        "    np.max(train_acc_list),                           # 輸出最高訓練準確度\n",
        "    np.mean(valid_acc_list),                          # 輸出平均驗證準確度\n",
        "    np.min(valid_acc_list),                           # 輸出最低驗證準確度\n",
        "    np.max(valid_acc_list)                            # 輸出最高驗證準確度\n",
        "))\n",
        "\n",
        "#DecisonTreeClassifier\n",
        "for train_index, valid_index in kf.split(train_x):    # 每個迴圈都會產生不同部份的資料\n",
        "    train_x_split = train_x.iloc[train_index]         # 產生訓練資料\n",
        "    train_y_split = train_y.iloc[train_index]         # 產生訓練資料標籤\n",
        "    valid_x_split = train_x.iloc[valid_index]         # 產生驗證資料\n",
        "    valid_y_split = train_y.iloc[valid_index]         # 產生驗證資料標籤\n",
        "    \n",
        "    model_DTC = DecisionTreeClassifier(random_state=1012) # 創造決策樹模型\n",
        "    model_DTC.fit(train_x_split, train_y_split)           # 訓練決策樹模型\n",
        "    \n",
        "    train_pred_y = model_DTC.predict(train_x_split)       # 確認模型是否訓練成功\n",
        "    train_acc = accuracy_score(train_y_split,         # 計算訓練資料準確度\n",
        "                               train_pred_y)\n",
        "    valid_pred_y = model_DTC.predict(valid_x_split)       # 驗證模型是否訓練成功\n",
        "    valid_acc = accuracy_score(valid_y_split,         # 計算驗證資料準確度\n",
        "                               valid_pred_y)\n",
        "    \n",
        "    train_acc_list.append(train_acc)\n",
        "    valid_acc_list.append(valid_acc)\n",
        "\n",
        "printAccuracy(train_acc_list,valid_acc_list)\n"
      ],
      "execution_count": null,
      "outputs": [
        {
          "output_type": "stream",
          "text": [
            "average train accuracy: 0.9887774398411523\n",
            "    min train accuracy: 0.9859747545582047\n",
            "    max train accuracy: 0.9929873772791024\n",
            "average valid accuracy: 0.7676919214110852\n",
            "    min valid accuracy: 0.7247191011235955\n",
            "    max valid accuracy: 0.8146067415730337\n"
          ],
          "name": "stdout"
        }
      ]
    },
    {
      "cell_type": "markdown",
      "metadata": {
        "id": "kXCNBTZjyWsB"
      },
      "source": [
        "**使用DecisionTree作為model**\n",
        "\n",
        "*   訓練準確度為98%\n",
        "*   驗證準確度為76%\n",
        "*   造成overfitting（訓練與驗證準確度差距 > 10%)\n",
        "\n"
      ]
    },
    {
      "cell_type": "markdown",
      "metadata": {
        "id": "5kQvnfDUxlVW"
      },
      "source": [
        " **Linear Modeling**"
      ]
    },
    {
      "cell_type": "code",
      "metadata": {
        "colab": {
          "base_uri": "https://localhost:8080/"
        },
        "id": "x1U5f40LwP6D",
        "outputId": "119faf0b-9d58-40fe-c0bd-935726f0100f"
      },
      "source": [
        "#LogisticRegression\n",
        "for train_index, valid_index in kf.split(train_x):    # 每個迴圈都會產生不同部份的資料\n",
        "    train_x_split = train_x.iloc[train_index]         # 產生訓練資料\n",
        "    train_y_split = train_y.iloc[train_index]         # 產生訓練資料標籤\n",
        "    valid_x_split = train_x.iloc[valid_index]         # 產生驗證資料\n",
        "    valid_y_split = train_y.iloc[valid_index]         # 產生驗證資料標籤\n",
        "    \n",
        "    model_LR = LogisticRegression(random_state=1012)  # 創造LogisticRegression模型\n",
        "    model_LR.fit(train_x_split, train_y_split)        # 訓練LogisticRegression模型\n",
        "    \n",
        "    train_pred_y = model_LR.predict(train_x_split)    # 確認模型是否訓練成功\n",
        "    train_acc = accuracy_score(train_y_split,         # 計算訓練資料準確度\n",
        "                               train_pred_y)\n",
        "    valid_pred_y = model_LR.predict(valid_x_split)    # 驗證模型是否訓練成功\n",
        "    valid_acc = accuracy_score(valid_y_split,         # 計算驗證資料準確度\n",
        "                               valid_pred_y)\n",
        "    \n",
        "    train_acc_list.append(train_acc)\n",
        "    valid_acc_list.append(valid_acc)\n",
        "\n",
        "printAccuracy(train_acc_list,valid_acc_list)"
      ],
      "execution_count": null,
      "outputs": [
        {
          "output_type": "stream",
          "text": [
            "average train accuracy: 0.9044636525521218\n",
            "    min train accuracy: 0.8078541374474053\n",
            "    max train accuracy: 0.9929873772791024\n",
            "average valid accuracy: 0.7901387232439897\n",
            "    min valid accuracy: 0.7247191011235955\n",
            "    max valid accuracy: 0.8258426966292135\n"
          ],
          "name": "stdout"
        },
        {
          "output_type": "stream",
          "text": [
            "/usr/local/lib/python3.7/dist-packages/sklearn/linear_model/_logistic.py:940: ConvergenceWarning: lbfgs failed to converge (status=1):\n",
            "STOP: TOTAL NO. of ITERATIONS REACHED LIMIT.\n",
            "\n",
            "Increase the number of iterations (max_iter) or scale the data as shown in:\n",
            "    https://scikit-learn.org/stable/modules/preprocessing.html\n",
            "Please also refer to the documentation for alternative solver options:\n",
            "    https://scikit-learn.org/stable/modules/linear_model.html#logistic-regression\n",
            "  extra_warning_msg=_LOGISTIC_SOLVER_CONVERGENCE_MSG)\n"
          ],
          "name": "stderr"
        }
      ]
    },
    {
      "cell_type": "markdown",
      "metadata": {
        "id": "K_xCGgDq0gPv"
      },
      "source": [
        "**使用LogisticRegression作為model**\n",
        "\n",
        "*   訓練準確度為90%\n",
        "*   驗證準確度為79%\n",
        "*   造成overfitting（訓練與驗證準確度差距 > 10%)\n"
      ]
    },
    {
      "cell_type": "code",
      "metadata": {
        "colab": {
          "base_uri": "https://localhost:8080/"
        },
        "id": "CxBKMqvuyFd4",
        "outputId": "490be3b3-b019-47c4-f309-09a69f61dbba"
      },
      "source": [
        "#SGDClassifier\n",
        "for train_index, valid_index in kf.split(train_x):    # 每個迴圈都會產生不同部份的資料\n",
        "    train_x_split = train_x.iloc[train_index]         # 產生訓練資料\n",
        "    train_y_split = train_y.iloc[train_index]         # 產生訓練資料標籤\n",
        "    valid_x_split = train_x.iloc[valid_index]         # 產生驗證資料\n",
        "    valid_y_split = train_y.iloc[valid_index]         # 產生驗證資料標籤\n",
        "    \n",
        "    model_SGD = SGDClassifier(random_state=1012)      # 創造SGD模型\n",
        "    model_SGD.fit(train_x_split, train_y_split)       # 訓練SGD模型\n",
        "    \n",
        "    train_pred_y = model_SGD.predict(train_x_split)   # 確認模型是否訓練成功\n",
        "    train_acc = accuracy_score(train_y_split,         # 計算訓練資料準確度\n",
        "                               train_pred_y)\n",
        "    valid_pred_y = model_SGD.predict(valid_x_split)   # 驗證模型是否訓練成功\n",
        "    valid_acc = accuracy_score(valid_y_split,         # 計算驗證資料準確度\n",
        "                               valid_pred_y)\n",
        "    \n",
        "    train_acc_list.append(train_acc)\n",
        "    valid_acc_list.append(valid_acc)\n",
        "\n",
        "printAccuracy(train_acc_list,valid_acc_list)\n"
      ],
      "execution_count": null,
      "outputs": [
        {
          "output_type": "stream",
          "text": [
            "average train accuracy: 0.8615768683255328\n",
            "    min train accuracy: 0.7387640449438202\n",
            "    max train accuracy: 0.9929873772791024\n",
            "average valid accuracy: 0.7808193668528864\n",
            "    min valid accuracy: 0.659217877094972\n",
            "    max valid accuracy: 0.8426966292134831\n"
          ],
          "name": "stdout"
        }
      ]
    },
    {
      "cell_type": "markdown",
      "metadata": {
        "id": "Bkxxg-ww3Rm3"
      },
      "source": [
        "**使用SGDClassifier作為model**\n",
        "\n",
        "*   訓練準確度為86%\n",
        "*   驗證準確度為78%\n"
      ]
    },
    {
      "cell_type": "markdown",
      "metadata": {
        "id": "SQnFj40muUBB"
      },
      "source": [
        "**Ensemble Modeling**"
      ]
    },
    {
      "cell_type": "code",
      "metadata": {
        "colab": {
          "base_uri": "https://localhost:8080/"
        },
        "id": "q-Bg2dO8vIzj",
        "outputId": "1e49a83c-8f8c-47cc-ac58-f283d605e218"
      },
      "source": [
        "#BaggingClassifier\n",
        "for train_index, valid_index in kf.split(train_x):    # 每個迴圈都會產生不同部份的資料\n",
        "    train_x_split = train_x.iloc[train_index]         # 產生訓練資料\n",
        "    train_y_split = train_y.iloc[train_index]         # 產生訓練資料標籤\n",
        "    valid_x_split = train_x.iloc[valid_index]         # 產生驗證資料\n",
        "    valid_y_split = train_y.iloc[valid_index]         # 產生驗證資料標籤\n",
        "    \n",
        "    # 創造Bagging模型,並使用n_estimators來提高準確度\n",
        "    model_BC = BaggingClassifier(n_estimators = 100,random_state=1012)      \n",
        "    model_BC.fit(train_x_split, train_y_split)        # 訓練Bagging模型\n",
        "    \n",
        "    train_pred_y = model_BC.predict(train_x_split)    # 確認模型是否訓練成功\n",
        "    train_acc = accuracy_score(train_y_split,         # 計算訓練資料準確度\n",
        "                               train_pred_y)\n",
        "    valid_pred_y = model_BC.predict(valid_x_split)    # 驗證模型是否訓練成功\n",
        "    valid_acc = accuracy_score(valid_y_split,         # 計算驗證資料準確度\n",
        "                               valid_pred_y)\n",
        "    \n",
        "    train_acc_list.append(train_acc)\n",
        "    valid_acc_list.append(valid_acc)\n",
        "\n",
        "printAccuracy(train_acc_list,valid_acc_list)"
      ],
      "execution_count": null,
      "outputs": [
        {
          "output_type": "stream",
          "text": [
            "average train accuracy: 0.8933770112044377\n",
            "    min train accuracy: 0.7387640449438202\n",
            "    max train accuracy: 0.9929873772791024\n",
            "average valid accuracy: 0.7904462996673153\n",
            "    min valid accuracy: 0.659217877094972\n",
            "    max valid accuracy: 0.8426966292134831\n"
          ],
          "name": "stdout"
        }
      ]
    },
    {
      "cell_type": "markdown",
      "metadata": {
        "id": "Stg_BZNKaeXH"
      },
      "source": [
        "**使用Bagging作為model**\n",
        "\n",
        "*   訓練準確度為89%\n",
        "*   驗證準確度為79%\n",
        "*   造成overfitting（訓練與驗證準確度差距 > 10%)"
      ]
    },
    {
      "cell_type": "code",
      "metadata": {
        "colab": {
          "base_uri": "https://localhost:8080/"
        },
        "id": "mzDo9fqVvfwU",
        "outputId": "0f52b38d-cccb-44c0-9076-e6ff52914ec2"
      },
      "source": [
        "#RandomForest\n",
        "for train_index, valid_index in kf.split(train_x):    # 每個迴圈都會產生不同部份的資料\n",
        "    train_x_split = train_x.iloc[train_index]         # 產生訓練資料\n",
        "    train_y_split = train_y.iloc[train_index]         # 產生訓練資料標籤\n",
        "    valid_x_split = train_x.iloc[valid_index]         # 產生驗證資料\n",
        "    valid_y_split = train_y.iloc[valid_index]         # 產生驗證資料標籤\n",
        "    \n",
        "    # 創造random forest模型,並使用n_estimators來提高準確度\n",
        "    model_RF = RandomForestClassifier(n_estimators = 100,random_state=1012) \n",
        "    model_RF.fit(train_x_split, train_y_split)        # 訓練random forest模型\n",
        "    \n",
        "    train_pred_y = model_RF.predict(train_x_split)    # 確認模型是否訓練成功\n",
        "    train_acc = accuracy_score(train_y_split,         # 計算訓練資料準確度\n",
        "                               train_pred_y)\n",
        "    valid_pred_y = model_RF.predict(valid_x_split)    # 驗證模型是否訓練成功\n",
        "    valid_acc = accuracy_score(valid_y_split,         # 計算驗證資料準確度\n",
        "                               valid_pred_y)\n",
        "    \n",
        "    train_acc_list.append(train_acc)\n",
        "    valid_acc_list.append(valid_acc)\n",
        "\n",
        "printAccuracy(train_acc_list,valid_acc_list)"
      ],
      "execution_count": null,
      "outputs": [
        {
          "output_type": "stream",
          "text": [
            "average train accuracy: 0.9124570969317805\n",
            "    min train accuracy: 0.7387640449438202\n",
            "    max train accuracy: 0.9929873772791024\n",
            "average valid accuracy: 0.7948779109911492\n",
            "    min valid accuracy: 0.659217877094972\n",
            "    max valid accuracy: 0.8539325842696629\n"
          ],
          "name": "stdout"
        }
      ]
    },
    {
      "cell_type": "markdown",
      "metadata": {
        "id": "6yW51GdI3Nna"
      },
      "source": [
        "**使用RandomForest作為model**\n",
        "\n",
        "*   訓練準確度為91%\n",
        "*   驗證準確度為79%\n",
        "*   造成overfitting（訓練與驗證準確度差距 > 10%)"
      ]
    },
    {
      "cell_type": "markdown",
      "metadata": {
        "id": "BSTC0xiCBqm7"
      },
      "source": [
        "## 加分題\n",
        "\n",
        "請將訓練後的模型套用至 [Kaggle Titanic](https://www.kaggle.com/c/titanic/overview) `test.csv` 上，並上傳至 Kaggle 進行評分，**截圖**後**嵌入**至 `markdown` 區塊中。"
      ]
    },
    {
      "cell_type": "code",
      "metadata": {
        "id": "57vhiSo6b2U3"
      },
      "source": [
        "test_x= test[['Pclass','Sex','Age','Ticket','Fare','Embarked','Family','Title']]\n",
        "test_survived = pd.Series(model_RF.predict(test_x), name = \"Survived\").astype(int)# 選用randomforest的model\n",
        "results = pd.concat([test['PassengerId'], test_survived],axis = 1)\n",
        "results.to_csv(\"titanic.csv\", index = False)"
      ],
      "execution_count": null,
      "outputs": []
    },
    {
      "cell_type": "markdown",
      "metadata": {
        "id": "NHklNIXTm2WY"
      },
      "source": [
        "![56AEE05E-4127-4C7E-8211-BC8B59209A86_4_5005_c.jpeg](data:image/jpeg;base64,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)"
      ]
    },
    {
      "cell_type": "code",
      "metadata": {
        "id": "dCYZm7-lBqm8",
        "colab": {
          "base_uri": "https://localhost:8080/"
        },
        "outputId": "2f53e6d6-4963-46df-d9f4-6d5911a04278"
      },
      "source": [
        "# 請勿更動此區塊程式碼\n",
        "\n",
        "EXECUTION_END_TIME = time.time() # 計算執行時間\n",
        "print('total execution time: {}'.format(EXECUTION_END_TIME - EXECUTION_START_TIME))"
      ],
      "execution_count": null,
      "outputs": [
        {
          "output_type": "stream",
          "text": [
            "total execution time: 9.558878183364868\n"
          ],
          "name": "stdout"
        }
      ]
    }
  ]
}