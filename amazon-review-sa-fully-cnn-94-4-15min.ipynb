{
 "cells": [
  {
   "cell_type": "code",
   "execution_count": 1,
   "metadata": {
    "_uuid": "093e6bcbd039d3dce06f32c47e4bfa6c69d30fe1",
    "colab": {
     "base_uri": "https://localhost:8080/",
     "height": 122
    },
    "colab_type": "code",
    "id": "o_7zdELmhGgn",
    "outputId": "63e5fc1e-53f9-425b-e1b8-fff56f0ac84e"
   },
   "outputs": [],
   "source": [
    "import re\n",
    "from tqdm import tqdm\n",
    "from sklearn.utils import shuffle\n",
    "import numpy as np\n",
    "from tqdm import tqdm\n",
    "import bz2\n",
    "from keras.layers import *\n",
    "from keras.models import Model\n",
    "from keras.preprocessing.text import Tokenizer\n",
    "from keras.preprocessing.sequence import pad_sequences\n"
   ]
  },
  {
   "cell_type": "code",
   "execution_count": 2,
   "metadata": {
    "_uuid": "6e29213d819811e44eea35a8b87af5276c7ce27b",
    "colab": {},
    "colab_type": "code",
    "id": "13psF-UxlLn1"
   },
   "outputs": [],
   "source": [
    "def splitReviewsLabels(lines):\n",
    "    reviews = []\n",
    "    labels = []\n",
    "    for review in tqdm(lines):\n",
    "        rev = reviewToX(review)\n",
    "        label = reviewToY(review)\n",
    "        reviews.append(rev[:512])\n",
    "        labels.append(label)\n",
    "    return reviews, labels"
   ]
  },
  {
   "cell_type": "code",
   "execution_count": 3,
   "metadata": {
    "_uuid": "c0ce0e4c678d12ac91deaef433bf1d32b1f87bcf",
    "colab": {},
    "colab_type": "code",
    "id": "4nTvOtd7oWJM"
   },
   "outputs": [],
   "source": [
    "def reviewToY(review):\n",
    "    return [1,0] if review.split(' ')[0] == '__label__1' else [0,1] #[1,0]:neg,[0,1]:pos,[neg probability, pos probability]"
   ]
  },
  {
   "cell_type": "code",
   "execution_count": 4,
   "metadata": {
    "_uuid": "9a4aa9856bea537502506833f1df9960f6172f15",
    "colab": {},
    "colab_type": "code",
    "id": "z2DijnI-plux"
   },
   "outputs": [],
   "source": [
    "def reviewToX(review):\n",
    "    review = review.split(' ', 1)[1][:-1].lower()\n",
    "    review = re.sub('\\d','0',review)\n",
    "    if 'www.' in review or 'http:' in review or 'https:' in review or '.com' in review:\n",
    "        review = re.sub(r\"([^ ]+(?<=\\.[a-z]{3}))\", \"<url>\", review)\n",
    "    return review"
   ]
  },
  {
   "cell_type": "code",
   "execution_count": 5,
   "metadata": {
    "_uuid": "c596ea6c292833146271bdf36238fd8f527a1f06"
   },
   "outputs": [],
   "source": [
    "train_file = bz2.BZ2File('input/train.ft.txt.bz2')\n",
    "test_file = bz2.BZ2File('input/test.ft.txt.bz2')"
   ]
  },
  {
   "cell_type": "code",
   "execution_count": 6,
   "metadata": {
    "_uuid": "5db1d078bb74a49c4f94cd12feb48ce52dd087a2"
   },
   "outputs": [],
   "source": [
    "train_lines = train_file.readlines()\n",
    "test_lines = test_file.readlines()"
   ]
  },
  {
   "cell_type": "code",
   "execution_count": 7,
   "metadata": {},
   "outputs": [
    {
     "data": {
      "text/plain": [
       "(3600000, 400000)"
      ]
     },
     "execution_count": 7,
     "metadata": {},
     "output_type": "execute_result"
    }
   ],
   "source": [
    "len(train_lines), len(test_lines)"
   ]
  },
  {
   "cell_type": "code",
   "execution_count": 8,
   "metadata": {
    "_uuid": "5af875b476a33943c6e5c7b7bc3986394e3a1fe3"
   },
   "outputs": [],
   "source": [
    "train_lines = [x.decode('utf-8') for x in train_lines]\n",
    "test_lines = [x.decode('utf-8') for x in test_lines]"
   ]
  },
  {
   "cell_type": "code",
   "execution_count": 9,
   "metadata": {
    "_uuid": "766396c805eb0ec0bde8c7e99c3ca6212fcfebc3",
    "colab": {
     "base_uri": "https://localhost:8080/",
     "height": 51
    },
    "colab_type": "code",
    "id": "5l-8fcOPljvP",
    "outputId": "ab2281fe-798d-4568-ba21-8165b6633cfc"
   },
   "outputs": [
    {
     "name": "stderr",
     "output_type": "stream",
     "text": [
      "100%|██████████| 3600000/3600000 [00:30<00:00, 116474.33it/s]\n",
      "100%|██████████| 400000/400000 [00:03<00:00, 125885.13it/s]\n"
     ]
    }
   ],
   "source": [
    "# Load from the file\n",
    "reviews_train, y_train = splitReviewsLabels(train_lines)\n",
    "reviews_test, y_test = splitReviewsLabels(test_lines)"
   ]
  },
  {
   "cell_type": "code",
   "execution_count": 10,
   "metadata": {
    "_uuid": "495b5ea2ed252900ea331ce7ab0cb29bba8ffd8b",
    "colab": {},
    "colab_type": "code",
    "id": "XZdy-T0mngO6"
   },
   "outputs": [],
   "source": [
    "reviews_train, y_train = shuffle(reviews_train, y_train)\n",
    "reviews_test, y_test = shuffle(reviews_test, y_test)"
   ]
  },
  {
   "cell_type": "code",
   "execution_count": 11,
   "metadata": {
    "_uuid": "f481964b4d7579e2e8bf7c95b3e830e66fc2096b",
    "colab": {},
    "colab_type": "code",
    "id": "WwmN7WthnBgP"
   },
   "outputs": [],
   "source": [
    "y_train = np.array(y_train)\n",
    "y_test = np.array(y_test)"
   ]
  },
  {
   "cell_type": "code",
   "execution_count": 12,
   "metadata": {
    "_uuid": "6a7453d9dc24333b89231a5244cff018de47b1fb",
    "colab": {},
    "colab_type": "code",
    "id": "fnkXf-lcQbq3"
   },
   "outputs": [],
   "source": [
    "max_features = 8192\n",
    "maxlen = 128\n",
    "embed_size = 64"
   ]
  },
  {
   "cell_type": "code",
   "execution_count": 13,
   "metadata": {
    "_uuid": "215e6317713f4db778f17b347bfc354fc619aa98",
    "colab": {},
    "colab_type": "code",
    "id": "vvzUeeZAb11p"
   },
   "outputs": [],
   "source": [
    "tokenizer = Tokenizer(num_words=max_features)"
   ]
  },
  {
   "cell_type": "code",
   "execution_count": 14,
   "metadata": {
    "_uuid": "8d9d66c0727b37f61015d45b865655e47910ea74",
    "colab": {},
    "colab_type": "code",
    "id": "-CZkOWKgb143"
   },
   "outputs": [],
   "source": [
    "tokenizer.fit_on_texts(reviews_train)"
   ]
  },
  {
   "cell_type": "code",
   "execution_count": 15,
   "metadata": {
    "_uuid": "63e60c5241ef89e6727bd43611766a5829c6f497",
    "colab": {},
    "colab_type": "code",
    "id": "y8HdVs3Lb2Eo"
   },
   "outputs": [],
   "source": [
    "token_train = tokenizer.texts_to_sequences(reviews_train)\n",
    "token_test = tokenizer.texts_to_sequences(reviews_test)"
   ]
  },
  {
   "cell_type": "code",
   "execution_count": 16,
   "metadata": {
    "_uuid": "0050e99ef94c651ffbce04277daf5fa85d87cc86",
    "colab": {},
    "colab_type": "code",
    "id": "oZMszUGKb2HP"
   },
   "outputs": [],
   "source": [
    "x_train = pad_sequences(token_train, maxlen=maxlen, padding='post')\n",
    "x_test = pad_sequences(token_test, maxlen=maxlen, padding='post')"
   ]
  },
  {
   "cell_type": "code",
   "execution_count": 17,
   "metadata": {},
   "outputs": [
    {
     "data": {
      "text/plain": [
       "[\"an eighties classic: i was raised on conan and red sonja, so i can't help but highly recommend these movies. no, the acting isn't great, and there are homosexual connotations that i just didn't catch when i was six, but these movies have stood the test of time-- at least in my estimation. wonderful adventures with unforgetable characters, and the swords are just darn cool.\",\n",
       " 'no more drips: i love this travel mug. it never drips or spills. it keeps nmy coffee hot and it looks good too !',\n",
       " \"it ain't no joke! turnin' fitty: wow! very informative reading that mentally prepares us for the next half cent of living. it is a refresher of life looking back and reiterates in so many words that the reason the windshield is bigger than the rearview mirror is because it is more important where we are going than we we are coming from.definitely a fun read with contributions from many recognized resident experts. get this book before you turn fifty so you can set your gps on the future and make the best of\",\n",
       " 'manon (ne plus ultra): i would be curious to know how the sound has been remastered by testament, and whether improved over the earlier emi midpriced reissue, which was exceedingly \"hot\" on top and strident. having owned and loved this classic performance on lp, for me the first cd reissue was a distinct disappointment. i was hoping emi would rebalance the sound, as with their verdi falstaff under karajan which is much improved in its newest edition (great recordings of the century).',\n",
       " \"garbage. don't buy it: i agree with the other reviews this is a horrible piece of software. i am a software developer and have written some serious applications in my career, and this one ranks at the bottom of the barrel.i have a stock dell xp machine, and after a 00-minute install, audition 0.0 crashes every time on startup. i never even got it to run. tried calling adobe support -- useless...waited 00 minutes on hold then hung up. search of google groups for answers revealed nothing, as did their support\",\n",
       " \"great book: i saw the movie on tv for the first time in a long time so i thought i needed to read the book and wasn't disappointed.\",\n",
       " \"stanky!!: i can't quite put my finger on it, but this lotion stinks! it almost smells like a mix between something fermented, like sour milk, and plastic. it did leave my skin silky smooth, but only after i washed it off. the lotion itself is sticky and almost waxy. i didn't care for the consistency. i much much much prefer glycolic acid lotions, they seem to be less sticky!\",\n",
       " \"great toy for a little person.: it is well made and sturdy. if there is any weak point it will be the doors which do open. it is not too loud, and although there is music it isn't annoying to parents. my 0 month old seems to like it a lot and i am sure that it will last him until he goes to school. i like the fact that he sees his much older brother go on the real yellow bus and can associate that with going somewhere. the characters are cute and very chewable.....and are easy to put in the bus. i picked th\",\n",
       " \"fell apart quickly: i have bought several children's books from this publisher, and they have all been great. this particular book, however, fell apart very quickly. my son is pretty easy on books, so it was surprising. other tractor-themed books might be a better choice for your money.\",\n",
       " 'just as good as the others for your info!!!: i liked the educated guide just fine. mr. wallace may not bean english scholar but the book reads well...mr. wallace personallyreturned my phone call with answers and advice to my questions. he had a toll free number for you to call him at. he returns all his own calls. he was very nice and professional...i liked the book. it helped me. and as far as speeding in the left lane, mr. wallace only suggests that on certain roads like the mass pike...anyway, hey use yo']"
      ]
     },
     "execution_count": 17,
     "metadata": {},
     "output_type": "execute_result"
    }
   ],
   "source": [
    "reviews_test[:10]"
   ]
  },
  {
   "cell_type": "code",
   "execution_count": 18,
   "metadata": {},
   "outputs": [
    {
     "data": {
      "text/plain": [
       "0"
      ]
     },
     "execution_count": 18,
     "metadata": {},
     "output_type": "execute_result"
    }
   ],
   "source": [
    "import gc\n",
    "del train_file, test_file, train_lines, test_lines\n",
    "del reviews_train, reviews_test\n",
    "del token_train, token_test\n",
    "gc.collect()"
   ]
  },
  {
   "cell_type": "code",
   "execution_count": 19,
   "metadata": {
    "_uuid": "b48b02b5a43a9ea37c559ff6a76355c5c7dd1d33",
    "colab": {},
    "colab_type": "code",
    "id": "1IzD5S5u4Ban",
    "scrolled": true
   },
   "outputs": [
    {
     "name": "stdout",
     "output_type": "stream",
     "text": [
      "Metal device set to: Apple M1\n",
      "\n",
      "systemMemory: 16.00 GB\n",
      "maxCacheSize: 5.33 GB\n",
      "\n",
      "Model: \"model\"\n",
      "_________________________________________________________________\n",
      " Layer (type)                Output Shape              Param #   \n",
      "=================================================================\n",
      " input_1 (InputLayer)        [(None, 128)]             0         \n",
      "                                                                 \n",
      " embedding (Embedding)       (None, 128, 64)           524288    \n",
      "                                                                 \n",
      " dropout (Dropout)           (None, 128, 64)           0         \n",
      "                                                                 \n",
      " batch_normalization (BatchN  (None, 128, 64)          256       \n",
      " ormalization)                                                   \n",
      "                                                                 \n",
      " conv1d (Conv1D)             (None, 128, 32)           14368     \n",
      "                                                                 \n",
      " batch_normalization_1 (Batc  (None, 128, 32)          128       \n",
      " hNormalization)                                                 \n",
      "                                                                 \n",
      " conv1d_1 (Conv1D)           (None, 128, 32)           3104      \n",
      "                                                                 \n",
      " batch_normalization_2 (Batc  (None, 128, 32)          128       \n",
      " hNormalization)                                                 \n",
      "                                                                 \n",
      " conv1d_2 (Conv1D)           (None, 128, 32)           3104      \n",
      "                                                                 \n",
      " batch_normalization_3 (Batc  (None, 128, 32)          128       \n",
      " hNormalization)                                                 \n",
      "                                                                 \n",
      " conv1d_3 (Conv1D)           (None, 128, 32)           3104      \n",
      "                                                                 \n",
      " conv1d_4 (Conv1D)           (None, 128, 2)            66        \n",
      "                                                                 \n",
      " global_average_pooling1d (G  (None, 2)                0         \n",
      " lobalAveragePooling1D)                                          \n",
      "                                                                 \n",
      " activation (Activation)     (None, 2)                 0         \n",
      "                                                                 \n",
      "=================================================================\n",
      "Total params: 548,674\n",
      "Trainable params: 548,354\n",
      "Non-trainable params: 320\n",
      "_________________________________________________________________\n"
     ]
    },
    {
     "name": "stderr",
     "output_type": "stream",
     "text": [
      "2022-05-25 23:46:04.129691: I tensorflow/core/common_runtime/pluggable_device/pluggable_device_factory.cc:305] Could not identify NUMA node of platform GPU ID 0, defaulting to 0. Your kernel may not have been built with NUMA support.\n",
      "2022-05-25 23:46:04.129813: I tensorflow/core/common_runtime/pluggable_device/pluggable_device_factory.cc:271] Created TensorFlow device (/job:localhost/replica:0/task:0/device:GPU:0 with 0 MB memory) -> physical PluggableDevice (device: 0, name: METAL, pci bus id: <undefined>)\n"
     ]
    }
   ],
   "source": [
    "input = Input(shape=(maxlen,))\n",
    "net = Embedding(max_features, embed_size)(input)\n",
    "net = Dropout(0.2)(net)\n",
    "net = BatchNormalization()(net)\n",
    "\n",
    "net = Conv1D(32, 7, padding='same', activation='relu')(net)\n",
    "net = BatchNormalization()(net)\n",
    "net = Conv1D(32, 3, padding='same', activation='relu')(net)\n",
    "net = BatchNormalization()(net)\n",
    "net = Conv1D(32, 3, padding='same', activation='relu')(net)\n",
    "net = BatchNormalization()(net)\n",
    "net = Conv1D(32, 3, padding='same', activation='relu')(net)\n",
    "net1 = BatchNormalization()(net)\n",
    "\n",
    "net = Conv1D(2, 1)(net)\n",
    "net = GlobalAveragePooling1D()(net)\n",
    "output = Activation('softmax')(net)\n",
    "model = Model(inputs = input, outputs = output)\n",
    "model.compile(optimizer='adam', loss='categorical_crossentropy', metrics=['acc'])\n",
    "model.summary()"
   ]
  },
  {
   "cell_type": "code",
   "execution_count": 20,
   "metadata": {
    "_uuid": "4232ed31bd96068f35380b9bf9c585ea2bab685e",
    "colab": {
     "base_uri": "https://localhost:8080/",
     "height": 190
    },
    "colab_type": "code",
    "id": "RaLqVOrclW57",
    "outputId": "7aaa44bc-6832-4cac-dc41-4c1a2c9b16ca",
    "scrolled": false
   },
   "outputs": [],
   "source": [
    "# #model.fit(x_train, y_train, batch_size=2048, epochs=5, validation_split=0.1)\n",
    "# model.fit(x_train, y_train, batch_size=2048, epochs=1, validation_split=0.1)\n",
    "\n",
    "# model.save('my_model.h5')"
   ]
  },
  {
   "cell_type": "code",
   "execution_count": 21,
   "metadata": {},
   "outputs": [],
   "source": [
    "import keras\n",
    "model = keras.models.load_model('my_model.h5')"
   ]
  },
  {
   "cell_type": "code",
   "execution_count": 22,
   "metadata": {
    "_uuid": "68bf9815eefc1635f6974844ea24009c9b86f029",
    "colab": {
     "base_uri": "https://localhost:8080/",
     "height": 51
    },
    "colab_type": "code",
    "id": "9SsWJHB16o3B",
    "outputId": "99176d2b-603d-45e5-e4e7-6478dfbd4744"
   },
   "outputs": [
    {
     "name": "stdout",
     "output_type": "stream",
     "text": [
      "    1/12500 [..............................] - ETA: 36:12 - loss: 0.1233 - acc: 0.9688"
     ]
    },
    {
     "name": "stderr",
     "output_type": "stream",
     "text": [
      "2022-05-25 23:46:04.454978: W tensorflow/core/platform/profile_utils/cpu_utils.cc:128] Failed to get CPU frequency: 0 Hz\n",
      "2022-05-25 23:46:04.524276: I tensorflow/core/grappler/optimizers/custom_graph_optimizer_registry.cc:113] Plugin optimizer for device_type GPU is enabled.\n"
     ]
    },
    {
     "name": "stdout",
     "output_type": "stream",
     "text": [
      "12500/12500 [==============================] - 83s 7ms/step - loss: 0.1809 - acc: 0.9316\n"
     ]
    },
    {
     "data": {
      "text/plain": [
       "[0.18090391159057617, 0.9315975904464722]"
      ]
     },
     "execution_count": 22,
     "metadata": {},
     "output_type": "execute_result"
    }
   ],
   "source": [
    "model.evaluate (x_test, y_test)"
   ]
  },
  {
   "cell_type": "code",
   "execution_count": 46,
   "metadata": {},
   "outputs": [
    {
     "name": "stdout",
     "output_type": "stream",
     "text": [
      "400000\n",
      "400000\n"
     ]
    }
   ],
   "source": [
    "y_predict = model.predict(x_test)\n",
    "# for i in range(len(y_predict)):\n",
    "#     print(i, y_predict[i], y_test[i])\n",
    "print(len(y_predict))\n",
    "print(len(y_test))"
   ]
  },
  {
   "cell_type": "code",
   "execution_count": 47,
   "metadata": {},
   "outputs": [
    {
     "name": "stdout",
     "output_type": "stream",
     "text": [
      "0.9315975\n"
     ]
    }
   ],
   "source": [
    "def categorical_accuracy(np_predict, np_test):\n",
    "  count = 0\n",
    "  correct = 0\n",
    "  if len(np_predict) == len(np_test):\n",
    "    for i in range(len(np_predict)):\n",
    "      count += 1\n",
    "      if np.argmax(np_predict[i]) == np.argmax(np_test[i]):\n",
    "        correct += 1\n",
    "    print(correct/count)\n",
    "  else:\n",
    "    print(\"Error\")\n",
    "    return\n",
    "\n",
    "\n",
    "categorical_accuracy(y_predict, y_test)\n"
   ]
  }
 ],
 "metadata": {
  "accelerator": "GPU",
  "colab": {
   "collapsed_sections": [],
   "name": "sentiment analysis.ipynb",
   "provenance": [],
   "version": "0.3.2"
  },
  "interpreter": {
   "hash": "0571184515bc218bc3a587aa61806576ca2fd74938d0fe500bb94829c3b5471f"
  },
  "kernelspec": {
   "display_name": "Python 3.9.6 ('py39')",
   "language": "python",
   "name": "python3"
  },
  "language_info": {
   "codemirror_mode": {
    "name": "ipython",
    "version": 3
   },
   "file_extension": ".py",
   "mimetype": "text/x-python",
   "name": "python",
   "nbconvert_exporter": "python",
   "pygments_lexer": "ipython3",
   "version": "3.9.6"
  }
 },
 "nbformat": 4,
 "nbformat_minor": 1
}
